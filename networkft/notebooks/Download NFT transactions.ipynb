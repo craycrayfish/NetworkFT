{
 "cells": [
  {
   "cell_type": "code",
   "execution_count": 1,
   "id": "48e71439",
   "metadata": {},
   "outputs": [],
   "source": [
    "import requests\n",
    "import json\n",
    "import pandas as pd\n",
    "import time\n",
    "from tqdm import tqdm\n",
    "from pathlib import Path"
   ]
  },
  {
   "cell_type": "code",
   "execution_count": 2,
   "id": "ec84d037",
   "metadata": {},
   "outputs": [],
   "source": [
    "\n",
    "DATA_ROOT = Path(r\"C:\\Users\\shawn\\PycharmProjects\\NetworkFT\\networkft\\data\")\n",
    "folders = [\"raw\", \"intermediate\", \"primary\"]\n",
    "DATA_PATH = {\n",
    "    folder: DATA_ROOT.joinpath(f\"0{i+1}_{folder}\")\n",
    "    for i, folder in enumerate(folders)\n",
    "}"
   ]
  },
  {
   "cell_type": "code",
   "execution_count": null,
   "id": "c38489f0",
   "metadata": {},
   "outputs": [],
   "source": [
    "CONTRACTS = {\n",
    "    \"azuki\": \"0xED5AF388653567Af2F388E6224dC7C4b3241C544\",\n",
    "    \"doodles\": \"0x8a90CAb2b38dba80c64b7734e58Ee1dB38B8992e\",\n",
    "    \"moonbirds\": \"0x23581767a106ae21c074b2276D25e5C3e136a68b\",\n",
    "    \"clonex\": \"0x348fc118bcc65a92dc033a951af153d14d945312\",\n",
    "    \"mayc\": \"0x60E4d786628Fea6478F785A6d7e704777c86a7c6\",\n",
    "    \"pxn\": \"0x160C404B2b49CBC3240055CEaEE026df1e8497A0\",\n",
    "    \"goblintown\": \"0xbCe3781ae7Ca1a5e050Bd9C4c77369867eBc307e\"\n",
    "}\n",
    "\n",
    "def generate_endpoint(\n",
    "    topic, \n",
    "    contract_address, \n",
    "    category=\"tokens\",\n",
    "    chain_id=1,\n",
    "    base_url=None\n",
    "):\n",
    "    \"\"\"Generates the endpoint \"\"\"\n",
    "    base_url = base_url or \"https://api.covalenthq.com/v1\"\n",
    "    \n",
    "    endpoint = f\"{chain_id}/{category}/{contract_address}/{topic}\"\n",
    "    url = f\"{base_url}/{endpoint}/\"\n",
    "    return url\n",
    "\n",
    "def get_covalent_query(url, params={}):\n",
    "    \"\"\"Queries the covalent API given the url endpoint and extra params\"\"\"\n",
    "    params = params or {}\n",
    "    params.update({\"key\": KEY})\n",
    "    r = requests.get(url=url, params=params)\n",
    "    result = r.json()\n",
    "    if result[\"error\"]:\n",
    "        print(result[\"error_message\"])\n",
    "        return None\n",
    "    else:\n",
    "        return result[\"data\"]\n",
    "\n",
    "def save_json(json_file, path):\n",
    "    \"\"\"Saves a dict as a json in the path\"\"\"\n",
    "    with open(path, \"w\") as f:\n",
    "        json.dump(json_file, f)\n",
    "        \n",
    "def load_json(path):\n",
    "    \"\"\"Loads json as dict\"\"\"\n",
    "    with open(path, \"rb\") as f:\n",
    "        file = json.load(f)\n",
    "    return file\n",
    "    \n",
    "def check_directory(path):\n",
    "    \"\"\"Checks if directory exists, empty contents if yes, creates if no\"\"\"\n",
    "    if not path.is_dir():\n",
    "        path.mkdir(parents=True, exist_ok=False)\n",
    "    else:\n",
    "        for content in path.iterdir():\n",
    "            content.unlink()\n",
    "\n",
    "def update_saved_file(path, json):\n",
    "    \"\"\"Updates the json found in the path with the provided json.\"\"\"\n",
    "    if json:\n",
    "        txs = load_json(path)\n",
    "        txs.update(json)\n",
    "        save_json(txs, path)"
   ]
  },
  {
   "cell_type": "code",
   "execution_count": null,
   "id": "74b8e9e2",
   "metadata": {},
   "outputs": [],
   "source": [
    "def parse_token_ids(result):\n",
    "    \"\"\"Parses covalent response into a list of ids\"\"\"\n",
    "    token_ids = [item[\"token_id\"] for item in result[\"items\"]]\n",
    "    return token_ids"
   ]
  },
  {
   "cell_type": "code",
   "execution_count": null,
   "id": "db3b7123",
   "metadata": {},
   "outputs": [],
   "source": [
    "def parse_token_tx(result):\n",
    "    \"\"\"Parses covalent response to token transactions. Take the first dict in log_events\n",
    "    because that is the most important one. Subsequent ones are signatures, etc.\n",
    "    \"\"\"\n",
    "    txs = [tx[\"log_events\"][0] for tx in result[\"items\"][0][\"nft_transactions\"]]\n",
    "    \n",
    "    parsed = {\n",
    "        \"updated_at\": result[\"updated_at\"],\n",
    "        \"txs\": txs\n",
    "    }\n",
    "    return parsed"
   ]
  },
  {
   "cell_type": "code",
   "execution_count": 11,
   "id": "93eddf62",
   "metadata": {},
   "outputs": [],
   "source": [
    "def query_nft_data(nft, contract_address, token_ids=True, txs=True, save=None, resume=True):\n",
    "    \"\"\"Queries covalent API for all token id and transaction data\n",
    "    of an NFT collection, and optionally saves it as a pkl\n",
    "    \n",
    "    Args\n",
    "        nft: nft project name\n",
    "        token_ids: list of token ids\n",
    "        txs: pull transaction data for all token ids\n",
    "        save: path to save file\n",
    "        resume: continue from last saved file\n",
    "    \n",
    "    Returns\n",
    "        Dict of ids and txs \n",
    "    \n",
    "    \"\"\"\n",
    "    # Empty directory of existing transactions\n",
    "    if save and not resume: \n",
    "        check_directory(save)\n",
    "        \n",
    "    # Load downloaded transactions if possible\n",
    "    txs_fp = save.joinpath(f\"{nft}_txs.json\")\n",
    "    if resume and txs_fp.exists():\n",
    "        nft_data = load_json(txs_fp)\n",
    "        saved_id = set(list(nft_data))\n",
    "    else:\n",
    "        nft_data = {}\n",
    "        saved_id = set([])\n",
    "\n",
    "    # First get all the ids\n",
    "    id_url = generate_endpoint(\"nft_token_ids\", contract_address)\n",
    "    result_id = get_covalent_query(id_url)\n",
    "    if save:\n",
    "        save_json(result_id, save.joinpath(f\"{nft}_ids.json\"))\n",
    "    ids = parse_token_ids(result_id)\n",
    "    print(f\"Found {len(ids)} for token {nft}. Finding transactions...\")\n",
    "    \n",
    "    # Get transactions for each token id\n",
    "    counter = 0\n",
    "    for _id in tqdm(ids, f\"downloading transactions for {nft}\"):\n",
    "        \n",
    "        if _id in saved_id:\n",
    "            continue\n",
    "        # Save after interval\n",
    "        if counter >= 500:\n",
    "            if txs_fp.exists():\n",
    "                update_saved_file(txs_fp, nft_data)\n",
    "                print(f\"udpating save file to id {_id}\")\n",
    "            else:\n",
    "                save_json(nft_data, save.joinpath(f\"{nft}_txs.json\"))\n",
    "                print(f\"Saving data up to id {_id}\")\n",
    "            counter = 0\n",
    "            # Remembers which id has been saved and clear the data variable\n",
    "            saved_id.update(list(nft_data))\n",
    "            nft_data = {}\n",
    "            \n",
    "        try:\n",
    "            #time.sleep(0.1)\n",
    "            token_url = generate_endpoint(f\"nft_transactions/{_id}\", contract_address)\n",
    "            result = get_covalent_query(token_url)\n",
    "            result_parsed = parse_token_tx(result)\n",
    "            nft_data[_id] = result_parsed\n",
    "            counter += 1\n",
    "        except Exception as e:\n",
    "            print(e)\n",
    "            continue\n",
    "\n",
    "    update_saved_file(txs_fp, nft_data)\n",
    "    return nft_data\n",
    "        "
   ]
  },
  {
   "cell_type": "code",
   "execution_count": null,
   "id": "fbb44fab",
   "metadata": {
    "scrolled": false
   },
   "outputs": [
    {
     "name": "stdout",
     "output_type": "stream",
     "text": [
      "Found 10000 for token azuki. Finding transactions...\n"
     ]
    },
    {
     "name": "stderr",
     "output_type": "stream",
     "text": [
      "downloading transactions for azuki:   2%|████▏                                                                                                                                                                                                               | 200/10000 [02:30<2:24:24,  1.13it/s]"
     ]
    },
    {
     "name": "stdout",
     "output_type": "stream",
     "text": [
      "Saving data up to id 200\n"
     ]
    },
    {
     "name": "stderr",
     "output_type": "stream",
     "text": [
      "downloading transactions for azuki:   4%|████████▍                                                                                                                                                                                                           | 400/10000 [05:31<2:20:42,  1.14it/s]"
     ]
    },
    {
     "name": "stdout",
     "output_type": "stream",
     "text": [
      "udpating save file to id 400\n"
     ]
    },
    {
     "name": "stderr",
     "output_type": "stream",
     "text": [
      "downloading transactions for azuki:   6%|████████████▋                                                                                                                                                                                                       | 600/10000 [08:34<2:17:48,  1.14it/s]"
     ]
    },
    {
     "name": "stdout",
     "output_type": "stream",
     "text": [
      "udpating save file to id 600\n"
     ]
    },
    {
     "name": "stderr",
     "output_type": "stream",
     "text": [
      "downloading transactions for azuki:   8%|████████████████▉                                                                                                                                                                                                   | 800/10000 [11:42<2:26:14,  1.05it/s]"
     ]
    },
    {
     "name": "stdout",
     "output_type": "stream",
     "text": [
      "udpating save file to id 800\n"
     ]
    },
    {
     "name": "stderr",
     "output_type": "stream",
     "text": [
      "downloading transactions for azuki:  10%|█████████████████████                                                                                                                                                                                              | 1000/10000 [14:43<2:15:21,  1.11it/s]"
     ]
    },
    {
     "name": "stdout",
     "output_type": "stream",
     "text": [
      "udpating save file to id 1000\n"
     ]
    },
    {
     "name": "stderr",
     "output_type": "stream",
     "text": [
      "downloading transactions for azuki:  12%|█████████████████████████▎                                                                                                                                                                                         | 1200/10000 [17:43<2:08:29,  1.14it/s]"
     ]
    },
    {
     "name": "stdout",
     "output_type": "stream",
     "text": [
      "udpating save file to id 1200\n"
     ]
    },
    {
     "name": "stderr",
     "output_type": "stream",
     "text": [
      "downloading transactions for azuki:  14%|█████████████████████████████▌                                                                                                                                                                                     | 1400/10000 [20:46<2:14:33,  1.07it/s]"
     ]
    },
    {
     "name": "stdout",
     "output_type": "stream",
     "text": [
      "udpating save file to id 1400\n"
     ]
    },
    {
     "name": "stderr",
     "output_type": "stream",
     "text": [
      "downloading transactions for azuki:  16%|█████████████████████████████████▊                                                                                                                                                                                 | 1600/10000 [23:52<2:04:48,  1.12it/s]"
     ]
    },
    {
     "name": "stdout",
     "output_type": "stream",
     "text": [
      "udpating save file to id 1600\n"
     ]
    },
    {
     "name": "stderr",
     "output_type": "stream",
     "text": [
      "downloading transactions for azuki:  18%|█████████████████████████████████████▉                                                                                                                                                                             | 1800/10000 [26:57<2:15:56,  1.01it/s]"
     ]
    },
    {
     "name": "stdout",
     "output_type": "stream",
     "text": [
      "udpating save file to id 1800\n"
     ]
    },
    {
     "name": "stderr",
     "output_type": "stream",
     "text": [
      "downloading transactions for azuki:  20%|██████████████████████████████████████████▏                                                                                                                                                                        | 2000/10000 [29:59<2:05:23,  1.06it/s]"
     ]
    },
    {
     "name": "stdout",
     "output_type": "stream",
     "text": [
      "udpating save file to id 2000\n"
     ]
    },
    {
     "name": "stderr",
     "output_type": "stream",
     "text": [
      "downloading transactions for azuki:  22%|██████████████████████████████████████████████▍                                                                                                                                                                    | 2200/10000 [33:02<2:06:45,  1.03it/s]"
     ]
    },
    {
     "name": "stdout",
     "output_type": "stream",
     "text": [
      "udpating save file to id 2200\n"
     ]
    },
    {
     "name": "stderr",
     "output_type": "stream",
     "text": [
      "downloading transactions for azuki:  24%|██████████████████████████████████████████████████▋                                                                                                                                                                | 2400/10000 [36:12<1:50:44,  1.14it/s]"
     ]
    },
    {
     "name": "stdout",
     "output_type": "stream",
     "text": [
      "udpating save file to id 2400\n"
     ]
    },
    {
     "name": "stderr",
     "output_type": "stream",
     "text": [
      "downloading transactions for azuki:  26%|██████████████████████████████████████████████████████▊                                                                                                                                                            | 2600/10000 [39:16<2:01:15,  1.02it/s]"
     ]
    },
    {
     "name": "stdout",
     "output_type": "stream",
     "text": [
      "udpating save file to id 2600\n"
     ]
    },
    {
     "name": "stderr",
     "output_type": "stream",
     "text": [
      "downloading transactions for azuki:  28%|███████████████████████████████████████████████████████████                                                                                                                                                        | 2800/10000 [42:31<2:04:22,  1.04s/it]"
     ]
    },
    {
     "name": "stdout",
     "output_type": "stream",
     "text": [
      "udpating save file to id 2800\n"
     ]
    },
    {
     "name": "stderr",
     "output_type": "stream",
     "text": [
      "downloading transactions for azuki:  30%|███████████████████████████████████████████████████████████████▎                                                                                                                                                   | 3000/10000 [45:37<1:42:36,  1.14it/s]"
     ]
    },
    {
     "name": "stdout",
     "output_type": "stream",
     "text": [
      "udpating save file to id 3000\n"
     ]
    },
    {
     "name": "stderr",
     "output_type": "stream",
     "text": [
      "downloading transactions for azuki:  32%|███████████████████████████████████████████████████████████████████▌                                                                                                                                               | 3200/10000 [48:35<1:34:13,  1.20it/s]"
     ]
    },
    {
     "name": "stdout",
     "output_type": "stream",
     "text": [
      "udpating save file to id 3200\n"
     ]
    },
    {
     "name": "stderr",
     "output_type": "stream",
     "text": [
      "downloading transactions for azuki:  34%|███████████████████████████████████████████████████████████████████████▋                                                                                                                                           | 3400/10000 [51:37<1:41:05,  1.09it/s]"
     ]
    },
    {
     "name": "stdout",
     "output_type": "stream",
     "text": [
      "udpating save file to id 3400\n"
     ]
    },
    {
     "name": "stderr",
     "output_type": "stream",
     "text": [
      "downloading transactions for azuki:  36%|███████████████████████████████████████████████████████████████████████████▉                                                                                                                                       | 3600/10000 [55:08<1:35:42,  1.11it/s]"
     ]
    },
    {
     "name": "stdout",
     "output_type": "stream",
     "text": [
      "udpating save file to id 3600\n"
     ]
    },
    {
     "name": "stderr",
     "output_type": "stream",
     "text": [
      "downloading transactions for azuki:  38%|████████████████████████████████████████████████████████████████████████████████▏                                                                                                                                  | 3800/10000 [58:16<1:34:40,  1.09it/s]"
     ]
    },
    {
     "name": "stdout",
     "output_type": "stream",
     "text": [
      "udpating save file to id 3800\n"
     ]
    },
    {
     "name": "stderr",
     "output_type": "stream",
     "text": [
      "downloading transactions for azuki:  40%|███████████████████████████████████████████████████████████████████████████████████▌                                                                                                                             | 4000/10000 [1:01:46<1:36:47,  1.03it/s]"
     ]
    },
    {
     "name": "stdout",
     "output_type": "stream",
     "text": [
      "udpating save file to id 4000\n"
     ]
    },
    {
     "name": "stderr",
     "output_type": "stream",
     "text": [
      "downloading transactions for azuki:  42%|███████████████████████████████████████████████████████████████████████████████████████▊                                                                                                                         | 4200/10000 [1:05:23<1:53:27,  1.17s/it]"
     ]
    },
    {
     "name": "stdout",
     "output_type": "stream",
     "text": [
      "udpating save file to id 4200\n"
     ]
    },
    {
     "name": "stderr",
     "output_type": "stream",
     "text": [
      "downloading transactions for azuki:  44%|███████████████████████████████████████████████████████████████████████████████████████████▉                                                                                                                     | 4400/10000 [1:08:39<1:29:19,  1.04it/s]"
     ]
    },
    {
     "name": "stdout",
     "output_type": "stream",
     "text": [
      "udpating save file to id 4400\n"
     ]
    },
    {
     "name": "stderr",
     "output_type": "stream",
     "text": [
      "downloading transactions for azuki:  46%|████████████████████████████████████████████████████████████████████████████████████████████████▏                                                                                                                | 4600/10000 [1:11:48<1:17:39,  1.16it/s]"
     ]
    },
    {
     "name": "stdout",
     "output_type": "stream",
     "text": [
      "udpating save file to id 4600\n"
     ]
    },
    {
     "name": "stderr",
     "output_type": "stream",
     "text": [
      "downloading transactions for azuki:  48%|████████████████████████████████████████████████████████████████████████████████████████████████████▎                                                                                                            | 4800/10000 [1:14:57<1:13:02,  1.19it/s]"
     ]
    },
    {
     "name": "stdout",
     "output_type": "stream",
     "text": [
      "udpating save file to id 4800\n"
     ]
    },
    {
     "name": "stderr",
     "output_type": "stream",
     "text": [
      "downloading transactions for azuki:  50%|████████████████████████████████████████████████████████████████████████████████████████████████████████▌                                                                                                        | 5000/10000 [1:18:03<1:12:38,  1.15it/s]"
     ]
    },
    {
     "name": "stdout",
     "output_type": "stream",
     "text": [
      "udpating save file to id 5000\n"
     ]
    },
    {
     "name": "stderr",
     "output_type": "stream",
     "text": [
      "downloading transactions for azuki:  52%|████████████████████████████████████████████████████████████████████████████████████████████████████████████▋                                                                                                    | 5200/10000 [1:21:08<1:13:14,  1.09it/s]"
     ]
    },
    {
     "name": "stdout",
     "output_type": "stream",
     "text": [
      "udpating save file to id 5200\n"
     ]
    },
    {
     "name": "stderr",
     "output_type": "stream",
     "text": [
      "downloading transactions for azuki:  54%|████████████████████████████████████████████████████████████████████████████████████████████████████████████████▊                                                                                                | 5400/10000 [1:24:14<1:11:41,  1.07it/s]"
     ]
    },
    {
     "name": "stdout",
     "output_type": "stream",
     "text": [
      "udpating save file to id 5400\n"
     ]
    },
    {
     "name": "stderr",
     "output_type": "stream",
     "text": [
      "downloading transactions for azuki:  56%|█████████████████████████████████████████████████████████████████████████████████████████████████████████████████████                                                                                            | 5600/10000 [1:27:23<1:05:59,  1.11it/s]"
     ]
    },
    {
     "name": "stdout",
     "output_type": "stream",
     "text": [
      "udpating save file to id 5600\n"
     ]
    },
    {
     "name": "stderr",
     "output_type": "stream",
     "text": [
      "downloading transactions for azuki:  58%|█████████████████████████████████████████████████████████████████████████████████████████████████████████████████████████▏                                                                                       | 5800/10000 [1:30:30<1:05:22,  1.07it/s]"
     ]
    },
    {
     "name": "stdout",
     "output_type": "stream",
     "text": [
      "udpating save file to id 5800\n"
     ]
    },
    {
     "name": "stderr",
     "output_type": "stream",
     "text": [
      "downloading transactions for azuki:  60%|██████████████████████████████████████████████████████████████████████████████████████████████████████████████████████████████▌                                                                                    | 6000/10000 [1:33:37<59:59,  1.11it/s]"
     ]
    },
    {
     "name": "stdout",
     "output_type": "stream",
     "text": [
      "udpating save file to id 6000\n"
     ]
    },
    {
     "name": "stderr",
     "output_type": "stream",
     "text": [
      "downloading transactions for azuki:  62%|██████████████████████████████████████████████████████████████████████████████████████████████████████████████████████████████████▊                                                                                | 6200/10000 [1:36:51<58:45,  1.08it/s]"
     ]
    },
    {
     "name": "stdout",
     "output_type": "stream",
     "text": [
      "udpating save file to id 6200\n"
     ]
    },
    {
     "name": "stderr",
     "output_type": "stream",
     "text": [
      "downloading transactions for azuki:  64%|███████████████████████████████████████████████████████████████████████████████████████████████████████████████████████████████████████                                                                            | 6400/10000 [1:40:18<57:01,  1.05it/s]"
     ]
    },
    {
     "name": "stdout",
     "output_type": "stream",
     "text": [
      "udpating save file to id 6400\n"
     ]
    },
    {
     "name": "stderr",
     "output_type": "stream",
     "text": [
      "downloading transactions for azuki:  66%|███████████████████████████████████████████████████████████████████████████████████████████████████████████████████████████████████████████▎                                                                       | 6600/10000 [1:43:31<54:07,  1.05it/s]"
     ]
    },
    {
     "name": "stdout",
     "output_type": "stream",
     "text": [
      "udpating save file to id 6600\n"
     ]
    },
    {
     "name": "stderr",
     "output_type": "stream",
     "text": [
      "downloading transactions for azuki:  68%|███████████████████████████████████████████████████████████████████████████████████████████████████████████████████████████████████████████████▍                                                                   | 6800/10000 [1:46:39<47:41,  1.12it/s]"
     ]
    },
    {
     "name": "stdout",
     "output_type": "stream",
     "text": [
      "udpating save file to id 6800\n"
     ]
    },
    {
     "name": "stderr",
     "output_type": "stream",
     "text": [
      "downloading transactions for azuki:  70%|███████████████████████████████████████████████████████████████████████████████████████████████████████████████████████████████████████████████████▋                                                               | 7000/10000 [1:49:46<47:03,  1.06it/s]"
     ]
    },
    {
     "name": "stdout",
     "output_type": "stream",
     "text": [
      "udpating save file to id 7000\n"
     ]
    },
    {
     "name": "stderr",
     "output_type": "stream",
     "text": [
      "downloading transactions for azuki:  72%|███████████████████████████████████████████████████████████████████████████████████████████████████████████████████████████████████████████████████████▉                                                           | 7200/10000 [1:52:59<40:44,  1.15it/s]"
     ]
    },
    {
     "name": "stdout",
     "output_type": "stream",
     "text": [
      "udpating save file to id 7200\n"
     ]
    },
    {
     "name": "stderr",
     "output_type": "stream",
     "text": [
      "downloading transactions for azuki:  74%|████████████████████████████████████████████████████████████████████████████████████████████████████████████████████████████████████████████████████████████▏                                                      | 7400/10000 [1:56:13<37:44,  1.15it/s]"
     ]
    },
    {
     "name": "stdout",
     "output_type": "stream",
     "text": [
      "udpating save file to id 7400\n"
     ]
    },
    {
     "name": "stderr",
     "output_type": "stream",
     "text": [
      "downloading transactions for azuki:  76%|████████████████████████████████████████████████████████████████████████████████████████████████████████████████████████████████████████████████████████████████▎                                                  | 7600/10000 [1:59:22<34:57,  1.14it/s]"
     ]
    },
    {
     "name": "stdout",
     "output_type": "stream",
     "text": [
      "udpating save file to id 7600\n"
     ]
    },
    {
     "name": "stderr",
     "output_type": "stream",
     "text": [
      "downloading transactions for azuki:  78%|████████████████████████████████████████████████████████████████████████████████████████████████████████████████████████████████████████████████████████████████████▌                                              | 7800/10000 [2:02:24<35:48,  1.02it/s]"
     ]
    },
    {
     "name": "stdout",
     "output_type": "stream",
     "text": [
      "udpating save file to id 7800\n"
     ]
    },
    {
     "name": "stderr",
     "output_type": "stream",
     "text": [
      "downloading transactions for azuki:  80%|████████████████████████████████████████████████████████████████████████████████████████████████████████████████████████████████████████████████████████████████████████▊                                          | 8000/10000 [2:05:29<30:49,  1.08it/s]"
     ]
    },
    {
     "name": "stdout",
     "output_type": "stream",
     "text": [
      "udpating save file to id 8000\n"
     ]
    },
    {
     "name": "stderr",
     "output_type": "stream",
     "text": [
      "downloading transactions for azuki:  82%|█████████████████████████████████████████████████████████████████████████████████████████████████████████████████████████████████████████████████████████████████████████████                                      | 8200/10000 [2:08:32<27:34,  1.09it/s]"
     ]
    },
    {
     "name": "stdout",
     "output_type": "stream",
     "text": [
      "udpating save file to id 8200\n"
     ]
    },
    {
     "name": "stderr",
     "output_type": "stream",
     "text": [
      "downloading transactions for azuki:  84%|█████████████████████████████████████████████████████████████████████████████████████████████████████████████████████████████████████████████████████████████████████████████████▏                                 | 8400/10000 [2:11:42<25:50,  1.03it/s]"
     ]
    },
    {
     "name": "stdout",
     "output_type": "stream",
     "text": [
      "udpating save file to id 8400\n"
     ]
    },
    {
     "name": "stderr",
     "output_type": "stream",
     "text": [
      "downloading transactions for azuki:  86%|█████████████████████████████████████████████████████████████████████████████████████████████████████████████████████████████████████████████████████████████████████████████████████▍                             | 8600/10000 [2:14:57<20:47,  1.12it/s]"
     ]
    },
    {
     "name": "stdout",
     "output_type": "stream",
     "text": [
      "udpating save file to id 8600\n"
     ]
    },
    {
     "name": "stderr",
     "output_type": "stream",
     "text": [
      "downloading transactions for azuki:  88%|█████████████████████████████████████████████████████████████████████████████████████████████████████████████████████████████████████████████████████████████████████████████████████████▋                         | 8800/10000 [2:18:06<20:15,  1.01s/it]"
     ]
    },
    {
     "name": "stdout",
     "output_type": "stream",
     "text": [
      "udpating save file to id 8800\n"
     ]
    },
    {
     "name": "stderr",
     "output_type": "stream",
     "text": [
      "downloading transactions for azuki:  90%|█████████████████████████████████████████████████████████████████████████████████████████████████████████████████████████████████████████████████████████████████████████████████████████████▉                     | 9000/10000 [2:21:15<15:04,  1.11it/s]"
     ]
    },
    {
     "name": "stdout",
     "output_type": "stream",
     "text": [
      "udpating save file to id 9000\n"
     ]
    },
    {
     "name": "stderr",
     "output_type": "stream",
     "text": [
      "downloading transactions for azuki:  92%|██████████████████████████████████████████████████████████████████████████████████████████████████████████████████████████████████████████████████████████████████████████████████████████████████                 | 9200/10000 [2:24:24<11:36,  1.15it/s]"
     ]
    },
    {
     "name": "stdout",
     "output_type": "stream",
     "text": [
      "udpating save file to id 9200\n"
     ]
    },
    {
     "name": "stderr",
     "output_type": "stream",
     "text": [
      "downloading transactions for azuki:  94%|██████████████████████████████████████████████████████████████████████████████████████████████████████████████████████████████████████████████████████████████████████████████████████████████████████▎            | 9400/10000 [2:27:35<10:33,  1.06s/it]"
     ]
    },
    {
     "name": "stdout",
     "output_type": "stream",
     "text": [
      "udpating save file to id 9400\n"
     ]
    },
    {
     "name": "stderr",
     "output_type": "stream",
     "text": [
      "downloading transactions for azuki:  96%|██████████████████████████████████████████████████████████████████████████████████████████████████████████████████████████████████████████████████████████████████████████████████████████████████████████▌        | 9600/10000 [2:30:39<05:51,  1.14it/s]"
     ]
    },
    {
     "name": "stdout",
     "output_type": "stream",
     "text": [
      "udpating save file to id 9600\n"
     ]
    },
    {
     "name": "stderr",
     "output_type": "stream",
     "text": [
      "downloading transactions for azuki:  98%|██████████████████████████████████████████████████████████████████████████████████████████████████████████████████████████████████████████████████████████████████████████████████████████████████████████████▊    | 9800/10000 [2:34:09<03:01,  1.10it/s]"
     ]
    },
    {
     "name": "stdout",
     "output_type": "stream",
     "text": [
      "udpating save file to id 9800\n"
     ]
    },
    {
     "name": "stderr",
     "output_type": "stream",
     "text": [
      "downloading transactions for azuki: 100%|██████████████████████████████████████████████████████████████████████████████████████████████████████████████████████████████████████████████████████████████████████████████████████████████████████████████████| 10000/10000 [2:37:20<00:00,  1.06it/s]\n"
     ]
    },
    {
     "name": "stdout",
     "output_type": "stream",
     "text": [
      "Found 10000 for token doodles. Finding transactions...\n"
     ]
    },
    {
     "name": "stderr",
     "output_type": "stream",
     "text": [
      "downloading transactions for doodles:   2%|████▏                                                                                                                                                                                                             | 200/10000 [03:22<2:38:13,  1.03it/s]"
     ]
    },
    {
     "name": "stdout",
     "output_type": "stream",
     "text": [
      "Saving data up to id 200\n"
     ]
    },
    {
     "name": "stderr",
     "output_type": "stream",
     "text": [
      "downloading transactions for doodles:   4%|████████▍                                                                                                                                                                                                         | 400/10000 [06:48<2:39:11,  1.01it/s]"
     ]
    },
    {
     "name": "stdout",
     "output_type": "stream",
     "text": [
      "udpating save file to id 400\n"
     ]
    },
    {
     "name": "stderr",
     "output_type": "stream",
     "text": [
      "downloading transactions for doodles:   6%|████████████▌                                                                                                                                                                                                     | 600/10000 [10:09<2:30:18,  1.04it/s]"
     ]
    },
    {
     "name": "stdout",
     "output_type": "stream",
     "text": [
      "udpating save file to id 600\n"
     ]
    },
    {
     "name": "stderr",
     "output_type": "stream",
     "text": [
      "downloading transactions for doodles:   8%|████████████████▊                                                                                                                                                                                                 | 800/10000 [13:31<2:29:27,  1.03it/s]"
     ]
    },
    {
     "name": "stdout",
     "output_type": "stream",
     "text": [
      "udpating save file to id 800\n"
     ]
    },
    {
     "name": "stderr",
     "output_type": "stream",
     "text": [
      "downloading transactions for doodles:  10%|████████████████████▉                                                                                                                                                                                            | 1000/10000 [16:53<2:19:25,  1.08it/s]"
     ]
    },
    {
     "name": "stdout",
     "output_type": "stream",
     "text": [
      "udpating save file to id 1000\n"
     ]
    },
    {
     "name": "stderr",
     "output_type": "stream",
     "text": [
      "downloading transactions for doodles:  12%|█████████████████████████                                                                                                                                                                                        | 1200/10000 [20:19<2:25:49,  1.01it/s]"
     ]
    },
    {
     "name": "stdout",
     "output_type": "stream",
     "text": [
      "udpating save file to id 1200\n"
     ]
    },
    {
     "name": "stderr",
     "output_type": "stream",
     "text": [
      "downloading transactions for doodles:  14%|█████████████████████████████▎                                                                                                                                                                                   | 1400/10000 [23:36<2:41:27,  1.13s/it]"
     ]
    },
    {
     "name": "stdout",
     "output_type": "stream",
     "text": [
      "udpating save file to id 1400\n"
     ]
    },
    {
     "name": "stderr",
     "output_type": "stream",
     "text": [
      "downloading transactions for doodles:  16%|█████████████████████████████████▍                                                                                                                                                                               | 1600/10000 [26:56<2:18:33,  1.01it/s]"
     ]
    },
    {
     "name": "stdout",
     "output_type": "stream",
     "text": [
      "udpating save file to id 1600\n"
     ]
    },
    {
     "name": "stderr",
     "output_type": "stream",
     "text": [
      "downloading transactions for doodles:  18%|█████████████████████████████████████▌                                                                                                                                                                           | 1800/10000 [30:23<2:17:39,  1.01s/it]"
     ]
    },
    {
     "name": "stdout",
     "output_type": "stream",
     "text": [
      "udpating save file to id 1800\n"
     ]
    },
    {
     "name": "stderr",
     "output_type": "stream",
     "text": [
      "downloading transactions for doodles:  20%|█████████████████████████████████████████▊                                                                                                                                                                       | 2000/10000 [33:48<2:21:07,  1.06s/it]"
     ]
    },
    {
     "name": "stdout",
     "output_type": "stream",
     "text": [
      "udpating save file to id 2000\n"
     ]
    },
    {
     "name": "stderr",
     "output_type": "stream",
     "text": [
      "downloading transactions for doodles:  22%|█████████████████████████████████████████████▉                                                                                                                                                                   | 2200/10000 [37:14<2:08:54,  1.01it/s]"
     ]
    },
    {
     "name": "stdout",
     "output_type": "stream",
     "text": [
      "udpating save file to id 2200\n"
     ]
    },
    {
     "name": "stderr",
     "output_type": "stream",
     "text": [
      "downloading transactions for doodles:  24%|██████████████████████████████████████████████████▏                                                                                                                                                              | 2400/10000 [40:36<2:00:26,  1.05it/s]"
     ]
    },
    {
     "name": "stdout",
     "output_type": "stream",
     "text": [
      "udpating save file to id 2400\n"
     ]
    },
    {
     "name": "stderr",
     "output_type": "stream",
     "text": [
      "downloading transactions for doodles:  26%|██████████████████████████████████████████████████████▎                                                                                                                                                          | 2600/10000 [44:01<2:08:38,  1.04s/it]"
     ]
    },
    {
     "name": "stdout",
     "output_type": "stream",
     "text": [
      "udpating save file to id 2600\n"
     ]
    },
    {
     "name": "stderr",
     "output_type": "stream",
     "text": [
      "downloading transactions for doodles:  28%|██████████████████████████████████████████████████████████▌                                                                                                                                                      | 2800/10000 [47:30<2:06:53,  1.06s/it]"
     ]
    },
    {
     "name": "stdout",
     "output_type": "stream",
     "text": [
      "udpating save file to id 2800\n"
     ]
    },
    {
     "name": "stderr",
     "output_type": "stream",
     "text": [
      "downloading transactions for doodles:  30%|██████████████████████████████████████████████████████████████▋                                                                                                                                                  | 3000/10000 [50:55<1:57:16,  1.01s/it]"
     ]
    },
    {
     "name": "stdout",
     "output_type": "stream",
     "text": [
      "udpating save file to id 3000\n"
     ]
    },
    {
     "name": "stderr",
     "output_type": "stream",
     "text": [
      "downloading transactions for doodles:  32%|██████████████████████████████████████████████████████████████████▉                                                                                                                                              | 3200/10000 [54:18<1:46:53,  1.06it/s]"
     ]
    },
    {
     "name": "stdout",
     "output_type": "stream",
     "text": [
      "udpating save file to id 3200\n"
     ]
    },
    {
     "name": "stderr",
     "output_type": "stream",
     "text": [
      "downloading transactions for doodles:  34%|███████████████████████████████████████████████████████████████████████                                                                                                                                          | 3400/10000 [57:36<1:45:47,  1.04it/s]"
     ]
    },
    {
     "name": "stdout",
     "output_type": "stream",
     "text": [
      "udpating save file to id 3400\n"
     ]
    },
    {
     "name": "stderr",
     "output_type": "stream",
     "text": [
      "downloading transactions for doodles:  36%|██████████████████████████████████████████████████████████████████████████▌                                                                                                                                    | 3600/10000 [1:01:00<1:51:19,  1.04s/it]"
     ]
    },
    {
     "name": "stdout",
     "output_type": "stream",
     "text": [
      "udpating save file to id 3600\n"
     ]
    },
    {
     "name": "stderr",
     "output_type": "stream",
     "text": [
      "downloading transactions for doodles:  38%|██████████████████████████████████████████████████████████████████████████████▋                                                                                                                                | 3800/10000 [1:04:28<1:45:33,  1.02s/it]"
     ]
    },
    {
     "name": "stdout",
     "output_type": "stream",
     "text": [
      "udpating save file to id 3800\n"
     ]
    },
    {
     "name": "stderr",
     "output_type": "stream",
     "text": [
      "downloading transactions for doodles:  40%|██████████████████████████████████████████████████████████████████████████████████▊                                                                                                                            | 4000/10000 [1:07:52<1:36:27,  1.04it/s]"
     ]
    },
    {
     "name": "stdout",
     "output_type": "stream",
     "text": [
      "udpating save file to id 4000\n"
     ]
    },
    {
     "name": "stderr",
     "output_type": "stream",
     "text": [
      "downloading transactions for doodles:  42%|██████████████████████████████████████████████████████████████████████████████████████▉                                                                                                                        | 4200/10000 [1:11:12<1:41:17,  1.05s/it]"
     ]
    },
    {
     "name": "stdout",
     "output_type": "stream",
     "text": [
      "udpating save file to id 4200\n"
     ]
    },
    {
     "name": "stderr",
     "output_type": "stream",
     "text": [
      "downloading transactions for doodles:  44%|███████████████████████████████████████████████████████████████████████████████████████████                                                                                                                    | 4400/10000 [1:14:36<1:33:20,  1.00s/it]"
     ]
    },
    {
     "name": "stdout",
     "output_type": "stream",
     "text": [
      "udpating save file to id 4400\n"
     ]
    },
    {
     "name": "stderr",
     "output_type": "stream",
     "text": [
      "downloading transactions for doodles:  46%|███████████████████████████████████████████████████████████████████████████████████████████████▏                                                                                                               | 4600/10000 [1:17:56<1:25:53,  1.05it/s]"
     ]
    },
    {
     "name": "stdout",
     "output_type": "stream",
     "text": [
      "udpating save file to id 4600\n"
     ]
    },
    {
     "name": "stderr",
     "output_type": "stream",
     "text": [
      "downloading transactions for doodles:  48%|███████████████████████████████████████████████████████████████████████████████████████████████████▎                                                                                                           | 4800/10000 [1:21:19<1:19:27,  1.09it/s]"
     ]
    },
    {
     "name": "stdout",
     "output_type": "stream",
     "text": [
      "udpating save file to id 4800\n"
     ]
    },
    {
     "name": "stderr",
     "output_type": "stream",
     "text": [
      "downloading transactions for doodles:  50%|███████████████████████████████████████████████████████████████████████████████████████████████████████▌                                                                                                       | 5000/10000 [1:24:40<1:19:54,  1.04it/s]"
     ]
    },
    {
     "name": "stdout",
     "output_type": "stream",
     "text": [
      "udpating save file to id 5000\n"
     ]
    },
    {
     "name": "stderr",
     "output_type": "stream",
     "text": [
      "downloading transactions for doodles:  52%|███████████████████████████████████████████████████████████████████████████████████████████████████████████▋                                                                                                   | 5200/10000 [1:28:01<1:22:10,  1.03s/it]"
     ]
    },
    {
     "name": "stdout",
     "output_type": "stream",
     "text": [
      "udpating save file to id 5200\n"
     ]
    },
    {
     "name": "stderr",
     "output_type": "stream",
     "text": [
      "downloading transactions for doodles:  54%|███████████████████████████████████████████████████████████████████████████████████████████████████████████████▊                                                                                               | 5400/10000 [1:31:23<1:12:53,  1.05it/s]"
     ]
    },
    {
     "name": "stdout",
     "output_type": "stream",
     "text": [
      "udpating save file to id 5400\n"
     ]
    },
    {
     "name": "stderr",
     "output_type": "stream",
     "text": [
      "downloading transactions for doodles:  56%|███████████████████████████████████████████████████████████████████████████████████████████████████████████████████▉                                                                                           | 5600/10000 [1:34:38<1:08:21,  1.07it/s]"
     ]
    },
    {
     "name": "stdout",
     "output_type": "stream",
     "text": [
      "udpating save file to id 5600\n"
     ]
    },
    {
     "name": "stderr",
     "output_type": "stream",
     "text": [
      "downloading transactions for doodles:  58%|████████████████████████████████████████████████████████████████████████████████████████████████████████████████████████                                                                                       | 5800/10000 [1:37:54<1:09:14,  1.01it/s]"
     ]
    },
    {
     "name": "stdout",
     "output_type": "stream",
     "text": [
      "udpating save file to id 5800\n"
     ]
    },
    {
     "name": "stderr",
     "output_type": "stream",
     "text": [
      "downloading transactions for doodles:  60%|████████████████████████████████████████████████████████████████████████████████████████████████████████████████████████████▏                                                                                  | 6000/10000 [1:41:14<1:04:50,  1.03it/s]"
     ]
    },
    {
     "name": "stdout",
     "output_type": "stream",
     "text": [
      "udpating save file to id 6000\n"
     ]
    },
    {
     "name": "stderr",
     "output_type": "stream",
     "text": [
      "downloading transactions for doodles:  62%|█████████████████████████████████████████████████████████████████████████████████████████████████████████████████████████████████▌                                                                               | 6200/10000 [1:44:48<58:35,  1.08it/s]"
     ]
    },
    {
     "name": "stdout",
     "output_type": "stream",
     "text": [
      "udpating save file to id 6200\n"
     ]
    },
    {
     "name": "stderr",
     "output_type": "stream",
     "text": [
      "downloading transactions for doodles:  64%|█████████████████████████████████████████████████████████████████████████████████████████████████████████████████████████████████████▊                                                                           | 6400/10000 [1:48:14<56:05,  1.07it/s]"
     ]
    },
    {
     "name": "stdout",
     "output_type": "stream",
     "text": [
      "udpating save file to id 6400\n"
     ]
    },
    {
     "name": "stderr",
     "output_type": "stream",
     "text": [
      "downloading transactions for doodles:  66%|█████████████████████████████████████████████████████████████████████████████████████████████████████████████████████████████████████████▉                                                                       | 6600/10000 [1:51:42<56:42,  1.00s/it]"
     ]
    },
    {
     "name": "stdout",
     "output_type": "stream",
     "text": [
      "udpating save file to id 6600\n"
     ]
    },
    {
     "name": "stderr",
     "output_type": "stream",
     "text": [
      "downloading transactions for doodles:  68%|████████████████████████████████████████████████████████████████████████████████████████████████████████████████████████████████████████████▊                                                                  | 6800/10000 [1:55:09<1:04:57,  1.22s/it]"
     ]
    },
    {
     "name": "stdout",
     "output_type": "stream",
     "text": [
      "udpating save file to id 6800\n"
     ]
    },
    {
     "name": "stderr",
     "output_type": "stream",
     "text": [
      "downloading transactions for doodles:  70%|██████████████████████████████████████████████████████████████████████████████████████████████████████████████████████████████████████████████████▎                                                              | 7000/10000 [1:58:30<48:59,  1.02it/s]"
     ]
    },
    {
     "name": "stdout",
     "output_type": "stream",
     "text": [
      "udpating save file to id 7000\n"
     ]
    },
    {
     "name": "stderr",
     "output_type": "stream",
     "text": [
      "downloading transactions for doodles:  72%|██████████████████████████████████████████████████████████████████████████████████████████████████████████████████████████████████████████████████████▍                                                          | 7200/10000 [2:01:54<43:36,  1.07it/s]"
     ]
    },
    {
     "name": "stdout",
     "output_type": "stream",
     "text": [
      "udpating save file to id 7200\n"
     ]
    },
    {
     "name": "stderr",
     "output_type": "stream",
     "text": [
      "downloading transactions for doodles:  74%|██████████████████████████████████████████████████████████████████████████████████████████████████████████████████████████████████████████████████████████▋                                                      | 7400/10000 [2:05:22<53:15,  1.23s/it]"
     ]
    },
    {
     "name": "stdout",
     "output_type": "stream",
     "text": [
      "udpating save file to id 7400\n"
     ]
    },
    {
     "name": "stderr",
     "output_type": "stream",
     "text": [
      "downloading transactions for doodles:  76%|██████████████████████████████████████████████████████████████████████████████████████████████████████████████████████████████████████████████████████████████▊                                                  | 7600/10000 [2:08:55<42:30,  1.06s/it]"
     ]
    },
    {
     "name": "stdout",
     "output_type": "stream",
     "text": [
      "udpating save file to id 7600\n"
     ]
    },
    {
     "name": "stderr",
     "output_type": "stream",
     "text": [
      "downloading transactions for doodles:  78%|███████████████████████████████████████████████████████████████████████████████████████████████████████████████████████████████████████████████████████████████████                                              | 7800/10000 [2:12:25<36:46,  1.00s/it]"
     ]
    },
    {
     "name": "stdout",
     "output_type": "stream",
     "text": [
      "udpating save file to id 7800\n"
     ]
    },
    {
     "name": "stderr",
     "output_type": "stream",
     "text": [
      "downloading transactions for doodles:  80%|███████████████████████████████████████████████████████████████████████████████████████████████████████████████████████████████████████████████████████████████████████▏                                         | 8000/10000 [2:16:00<36:03,  1.08s/it]"
     ]
    },
    {
     "name": "stdout",
     "output_type": "stream",
     "text": [
      "udpating save file to id 8000\n"
     ]
    },
    {
     "name": "stderr",
     "output_type": "stream",
     "text": [
      "downloading transactions for doodles:  82%|███████████████████████████████████████████████████████████████████████████████████████████████████████████████████████████████████████████████████████████████████████████▍                                     | 8200/10000 [2:19:27<30:21,  1.01s/it]"
     ]
    },
    {
     "name": "stdout",
     "output_type": "stream",
     "text": [
      "udpating save file to id 8200\n"
     ]
    },
    {
     "name": "stderr",
     "output_type": "stream",
     "text": [
      "downloading transactions for doodles:  84%|███████████████████████████████████████████████████████████████████████████████████████████████████████████████████████████████████████████████████████████████████████████████▌                                 | 8400/10000 [2:22:52<26:06,  1.02it/s]"
     ]
    },
    {
     "name": "stdout",
     "output_type": "stream",
     "text": [
      "udpating save file to id 8400\n"
     ]
    },
    {
     "name": "stderr",
     "output_type": "stream",
     "text": [
      "downloading transactions for doodles:  86%|███████████████████████████████████████████████████████████████████████████████████████████████████████████████████████████████████████████████████████████████████████████████████▋                             | 8600/10000 [2:26:20<23:10,  1.01it/s]"
     ]
    },
    {
     "name": "stdout",
     "output_type": "stream",
     "text": [
      "udpating save file to id 8600\n"
     ]
    },
    {
     "name": "stderr",
     "output_type": "stream",
     "text": [
      "downloading transactions for doodles:  88%|███████████████████████████████████████████████████████████████████████████████████████████████████████████████████████████████████████████████████████████████████████████████████████▉                         | 8800/10000 [2:30:00<19:20,  1.03it/s]"
     ]
    },
    {
     "name": "stdout",
     "output_type": "stream",
     "text": [
      "udpating save file to id 8800\n"
     ]
    },
    {
     "name": "stderr",
     "output_type": "stream",
     "text": [
      "downloading transactions for doodles:  90%|████████████████████████████████████████████████████████████████████████████████████████████████████████████████████████████████████████████████████████████████████████████████████████████                     | 9000/10000 [2:33:36<16:57,  1.02s/it]"
     ]
    },
    {
     "name": "stdout",
     "output_type": "stream",
     "text": [
      "udpating save file to id 9000\n"
     ]
    },
    {
     "name": "stderr",
     "output_type": "stream",
     "text": [
      "downloading transactions for doodles:  92%|████████████████████████████████████████████████████████████████████████████████████████████████████████████████████████████████████████████████████████████████████████████████████████████████▎                | 9200/10000 [2:37:12<13:12,  1.01it/s]"
     ]
    },
    {
     "name": "stdout",
     "output_type": "stream",
     "text": [
      "udpating save file to id 9200\n"
     ]
    },
    {
     "name": "stderr",
     "output_type": "stream",
     "text": [
      "downloading transactions for doodles:  94%|████████████████████████████████████████████████████████████████████████████████████████████████████████████████████████████████████████████████████████████████████████████████████████████████████▍            | 9400/10000 [2:40:42<09:24,  1.06it/s]"
     ]
    },
    {
     "name": "stdout",
     "output_type": "stream",
     "text": [
      "udpating save file to id 9400\n"
     ]
    },
    {
     "name": "stderr",
     "output_type": "stream",
     "text": [
      "downloading transactions for doodles:  96%|████████████████████████████████████████████████████████████████████████████████████████████████████████████████████████████████████████████████████████████████████████████████████████████████████████▋        | 9600/10000 [2:44:10<06:40,  1.00s/it]"
     ]
    },
    {
     "name": "stdout",
     "output_type": "stream",
     "text": [
      "udpating save file to id 9600\n"
     ]
    },
    {
     "name": "stderr",
     "output_type": "stream",
     "text": [
      "downloading transactions for doodles:  98%|████████████████████████████████████████████████████████████████████████████████████████████████████████████████████████████████████████████████████████████████████████████████████████████████████████████▊    | 9800/10000 [2:47:41<03:36,  1.08s/it]"
     ]
    },
    {
     "name": "stdout",
     "output_type": "stream",
     "text": [
      "udpating save file to id 9800\n"
     ]
    },
    {
     "name": "stderr",
     "output_type": "stream",
     "text": [
      "downloading transactions for doodles: 100%|████████████████████████████████████████████████████████████████████████████████████████████████████████████████████████████████████████████████████████████████████████████████████████████████████████████████| 10000/10000 [2:51:15<00:00,  1.03s/it]\n"
     ]
    },
    {
     "name": "stdout",
     "output_type": "stream",
     "text": [
      "Found 10000 for token moonbirds. Finding transactions...\n"
     ]
    },
    {
     "name": "stderr",
     "output_type": "stream",
     "text": [
      "downloading transactions for moonbirds:   2%|████▏                                                                                                                                                                                                           | 200/10000 [01:25<1:07:47,  2.41it/s]"
     ]
    },
    {
     "name": "stdout",
     "output_type": "stream",
     "text": [
      "Saving data up to id 200\n"
     ]
    },
    {
     "name": "stderr",
     "output_type": "stream",
     "text": [
      "downloading transactions for moonbirds:   4%|████████▎                                                                                                                                                                                                       | 400/10000 [02:54<1:08:50,  2.32it/s]"
     ]
    },
    {
     "name": "stdout",
     "output_type": "stream",
     "text": [
      "udpating save file to id 400\n"
     ]
    },
    {
     "name": "stderr",
     "output_type": "stream",
     "text": [
      "downloading transactions for moonbirds:   6%|████████████▍                                                                                                                                                                                                   | 600/10000 [04:20<1:07:04,  2.34it/s]"
     ]
    },
    {
     "name": "stdout",
     "output_type": "stream",
     "text": [
      "udpating save file to id 600\n"
     ]
    },
    {
     "name": "stderr",
     "output_type": "stream",
     "text": [
      "downloading transactions for moonbirds:   8%|████████████████▋                                                                                                                                                                                               | 800/10000 [05:51<1:04:55,  2.36it/s]"
     ]
    },
    {
     "name": "stdout",
     "output_type": "stream",
     "text": [
      "udpating save file to id 800\n"
     ]
    },
    {
     "name": "stderr",
     "output_type": "stream",
     "text": [
      "downloading transactions for moonbirds:  10%|████████████████████▋                                                                                                                                                                                          | 1000/10000 [07:19<1:02:49,  2.39it/s]"
     ]
    },
    {
     "name": "stdout",
     "output_type": "stream",
     "text": [
      "udpating save file to id 1000\n"
     ]
    },
    {
     "name": "stderr",
     "output_type": "stream",
     "text": [
      "downloading transactions for moonbirds:  12%|████████████████████████▊                                                                                                                                                                                      | 1200/10000 [08:45<1:05:16,  2.25it/s]"
     ]
    },
    {
     "name": "stdout",
     "output_type": "stream",
     "text": [
      "udpating save file to id 1200\n"
     ]
    },
    {
     "name": "stderr",
     "output_type": "stream",
     "text": [
      "downloading transactions for moonbirds:  14%|████████████████████████████▉                                                                                                                                                                                  | 1400/10000 [10:15<1:01:32,  2.33it/s]"
     ]
    },
    {
     "name": "stdout",
     "output_type": "stream",
     "text": [
      "udpating save file to id 1400\n"
     ]
    },
    {
     "name": "stderr",
     "output_type": "stream",
     "text": [
      "downloading transactions for moonbirds:  16%|█████████████████████████████████                                                                                                                                                                              | 1600/10000 [11:53<1:11:08,  1.97it/s]"
     ]
    },
    {
     "name": "stdout",
     "output_type": "stream",
     "text": [
      "udpating save file to id 1600\n"
     ]
    },
    {
     "name": "stderr",
     "output_type": "stream",
     "text": [
      "downloading transactions for moonbirds:  18%|█████████████████████████████████████▎                                                                                                                                                                         | 1800/10000 [13:36<1:24:27,  1.62it/s]"
     ]
    },
    {
     "name": "stdout",
     "output_type": "stream",
     "text": [
      "udpating save file to id 1800\n"
     ]
    },
    {
     "name": "stderr",
     "output_type": "stream",
     "text": [
      "downloading transactions for moonbirds:  20%|█████████████████████████████████████████▍                                                                                                                                                                     | 2000/10000 [15:22<1:34:44,  1.41it/s]"
     ]
    },
    {
     "name": "stdout",
     "output_type": "stream",
     "text": [
      "udpating save file to id 2000\n"
     ]
    },
    {
     "name": "stderr",
     "output_type": "stream",
     "text": [
      "downloading transactions for moonbirds:  22%|█████████████████████████████████████████████▉                                                                                                                                                                   | 2200/10000 [17:01<58:59,  2.20it/s]"
     ]
    },
    {
     "name": "stdout",
     "output_type": "stream",
     "text": [
      "udpating save file to id 2200\n"
     ]
    },
    {
     "name": "stderr",
     "output_type": "stream",
     "text": [
      "downloading transactions for moonbirds:  24%|█████████████████████████████████████████████████▋                                                                                                                                                             | 2400/10000 [18:42<1:01:31,  2.06it/s]"
     ]
    },
    {
     "name": "stdout",
     "output_type": "stream",
     "text": [
      "udpating save file to id 2400\n"
     ]
    },
    {
     "name": "stderr",
     "output_type": "stream",
     "text": [
      "downloading transactions for moonbirds:  26%|█████████████████████████████████████████████████████▊                                                                                                                                                         | 2600/10000 [20:36<1:08:47,  1.79it/s]"
     ]
    },
    {
     "name": "stdout",
     "output_type": "stream",
     "text": [
      "udpating save file to id 2600\n"
     ]
    },
    {
     "name": "stderr",
     "output_type": "stream",
     "text": [
      "downloading transactions for moonbirds:  28%|█████████████████████████████████████████████████████████▉                                                                                                                                                     | 2800/10000 [22:23<1:11:24,  1.68it/s]"
     ]
    },
    {
     "name": "stdout",
     "output_type": "stream",
     "text": [
      "udpating save file to id 2800\n"
     ]
    },
    {
     "name": "stderr",
     "output_type": "stream",
     "text": [
      "downloading transactions for moonbirds:  30%|██████████████████████████████████████████████████████████████▋                                                                                                                                                  | 3000/10000 [24:02<59:01,  1.98it/s]"
     ]
    },
    {
     "name": "stdout",
     "output_type": "stream",
     "text": [
      "udpating save file to id 3000\n"
     ]
    },
    {
     "name": "stderr",
     "output_type": "stream",
     "text": [
      "downloading transactions for moonbirds:  32%|██████████████████████████████████████████████████████████████████▉                                                                                                                                              | 3200/10000 [25:41<52:42,  2.15it/s]"
     ]
    },
    {
     "name": "stdout",
     "output_type": "stream",
     "text": [
      "udpating save file to id 3200\n"
     ]
    },
    {
     "name": "stderr",
     "output_type": "stream",
     "text": [
      "downloading transactions for moonbirds:  34%|███████████████████████████████████████████████████████████████████████                                                                                                                                          | 3400/10000 [27:24<50:08,  2.19it/s]"
     ]
    },
    {
     "name": "stdout",
     "output_type": "stream",
     "text": [
      "udpating save file to id 3400\n"
     ]
    },
    {
     "name": "stderr",
     "output_type": "stream",
     "text": [
      "downloading transactions for moonbirds:  36%|███████████████████████████████████████████████████████████████████████████▏                                                                                                                                     | 3600/10000 [29:27<50:25,  2.12it/s]"
     ]
    },
    {
     "name": "stdout",
     "output_type": "stream",
     "text": [
      "udpating save file to id 3600\n"
     ]
    },
    {
     "name": "stderr",
     "output_type": "stream",
     "text": [
      "downloading transactions for moonbirds:  38%|███████████████████████████████████████████████████████████████████████████████▍                                                                                                                                 | 3800/10000 [31:35<47:47,  2.16it/s]"
     ]
    },
    {
     "name": "stdout",
     "output_type": "stream",
     "text": [
      "udpating save file to id 3800\n"
     ]
    },
    {
     "name": "stderr",
     "output_type": "stream",
     "text": [
      "downloading transactions for moonbirds:  40%|██████████████████████████████████████████████████████████████████████████████████▊                                                                                                                            | 4000/10000 [33:30<3:30:38,  2.11s/it]"
     ]
    },
    {
     "name": "stdout",
     "output_type": "stream",
     "text": [
      "udpating save file to id 4000\n"
     ]
    },
    {
     "name": "stderr",
     "output_type": "stream",
     "text": [
      "downloading transactions for moonbirds:  42%|███████████████████████████████████████████████████████████████████████████████████████▊                                                                                                                         | 4200/10000 [35:40<53:09,  1.82it/s]"
     ]
    },
    {
     "name": "stdout",
     "output_type": "stream",
     "text": [
      "udpating save file to id 4200\n"
     ]
    },
    {
     "name": "stderr",
     "output_type": "stream",
     "text": [
      "downloading transactions for moonbirds:  44%|███████████████████████████████████████████████████████████████████████████████████████████▉                                                                                                                     | 4400/10000 [37:51<51:26,  1.81it/s]"
     ]
    },
    {
     "name": "stdout",
     "output_type": "stream",
     "text": [
      "udpating save file to id 4400\n"
     ]
    },
    {
     "name": "stderr",
     "output_type": "stream",
     "text": [
      "downloading transactions for moonbirds:  46%|████████████████████████████████████████████████████████████████████████████████████████████████▏                                                                                                                | 4600/10000 [40:06<43:28,  2.07it/s]"
     ]
    },
    {
     "name": "stdout",
     "output_type": "stream",
     "text": [
      "udpating save file to id 4600\n"
     ]
    },
    {
     "name": "stderr",
     "output_type": "stream",
     "text": [
      "downloading transactions for moonbirds:  48%|████████████████████████████████████████████████████████████████████████████████████████████████████▎                                                                                                            | 4800/10000 [41:42<39:53,  2.17it/s]"
     ]
    },
    {
     "name": "stdout",
     "output_type": "stream",
     "text": [
      "udpating save file to id 4800\n"
     ]
    },
    {
     "name": "stderr",
     "output_type": "stream",
     "text": [
      "downloading transactions for moonbirds:  50%|████████████████████████████████████████████████████████████████████████████████████████████████████████▌                                                                                                        | 5000/10000 [43:25<42:45,  1.95it/s]"
     ]
    },
    {
     "name": "stdout",
     "output_type": "stream",
     "text": [
      "udpating save file to id 5000\n"
     ]
    },
    {
     "name": "stderr",
     "output_type": "stream",
     "text": [
      "downloading transactions for moonbirds:  52%|████████████████████████████████████████████████████████████████████████████████████████████████████████████▋                                                                                                    | 5200/10000 [45:05<36:55,  2.17it/s]"
     ]
    },
    {
     "name": "stdout",
     "output_type": "stream",
     "text": [
      "udpating save file to id 5200\n"
     ]
    },
    {
     "name": "stderr",
     "output_type": "stream",
     "text": [
      "downloading transactions for moonbirds:  54%|███████████████████████████████████████████████████████████████████████████████████████████████████████████████▊                                                                                               | 5400/10000 [46:40<1:38:08,  1.28s/it]"
     ]
    },
    {
     "name": "stdout",
     "output_type": "stream",
     "text": [
      "udpating save file to id 5400\n"
     ]
    },
    {
     "name": "stderr",
     "output_type": "stream",
     "text": [
      "downloading transactions for moonbirds:  56%|█████████████████████████████████████████████████████████████████████████████████████████████████████████████████████                                                                                            | 5600/10000 [48:25<32:01,  2.29it/s]"
     ]
    },
    {
     "name": "stdout",
     "output_type": "stream",
     "text": [
      "udpating save file to id 5600\n"
     ]
    },
    {
     "name": "stderr",
     "output_type": "stream",
     "text": [
      "downloading transactions for moonbirds:  58%|█████████████████████████████████████████████████████████████████████████████████████████████████████████████████████████▏                                                                                       | 5800/10000 [49:58<30:41,  2.28it/s]"
     ]
    },
    {
     "name": "stdout",
     "output_type": "stream",
     "text": [
      "udpating save file to id 5800\n"
     ]
    },
    {
     "name": "stderr",
     "output_type": "stream",
     "text": [
      "downloading transactions for moonbirds:  60%|█████████████████████████████████████████████████████████████████████████████████████████████████████████████████████████████▍                                                                                   | 6000/10000 [51:29<29:44,  2.24it/s]"
     ]
    },
    {
     "name": "stdout",
     "output_type": "stream",
     "text": [
      "udpating save file to id 6000\n"
     ]
    },
    {
     "name": "stderr",
     "output_type": "stream",
     "text": [
      "downloading transactions for moonbirds:  62%|█████████████████████████████████████████████████████████████████████████████████████████████████████████████████████████████████▌                                                                               | 6200/10000 [53:02<27:04,  2.34it/s]"
     ]
    },
    {
     "name": "stdout",
     "output_type": "stream",
     "text": [
      "udpating save file to id 6200\n"
     ]
    },
    {
     "name": "stderr",
     "output_type": "stream",
     "text": [
      "downloading transactions for moonbirds:  64%|█████████████████████████████████████████████████████████████████████████████████████████████████████████████████████████████████████▊                                                                           | 6400/10000 [54:38<27:46,  2.16it/s]"
     ]
    },
    {
     "name": "stdout",
     "output_type": "stream",
     "text": [
      "udpating save file to id 6400\n"
     ]
    },
    {
     "name": "stderr",
     "output_type": "stream",
     "text": [
      "downloading transactions for moonbirds:  66%|█████████████████████████████████████████████████████████████████████████████████████████████████████████████████████████████████████████▉                                                                       | 6600/10000 [56:23<26:06,  2.17it/s]"
     ]
    },
    {
     "name": "stdout",
     "output_type": "stream",
     "text": [
      "udpating save file to id 6600\n"
     ]
    },
    {
     "name": "stderr",
     "output_type": "stream",
     "text": [
      "downloading transactions for moonbirds:  68%|██████████████████████████████████████████████████████████████████████████████████████████████████████████████████████████████████████████████                                                                   | 6800/10000 [58:15<26:27,  2.02it/s]"
     ]
    },
    {
     "name": "stdout",
     "output_type": "stream",
     "text": [
      "udpating save file to id 6800\n"
     ]
    },
    {
     "name": "stderr",
     "output_type": "stream",
     "text": [
      "downloading transactions for moonbirds:  70%|██████████████████████████████████████████████████████████████████████████████████████████████████████████████████████████████████████████████████▎                                                              | 7000/10000 [59:50<20:04,  2.49it/s]"
     ]
    },
    {
     "name": "stdout",
     "output_type": "stream",
     "text": [
      "udpating save file to id 7000\n"
     ]
    },
    {
     "name": "stderr",
     "output_type": "stream",
     "text": [
      "downloading transactions for moonbirds:  72%|█████████████████████████████████████████████████████████████████████████████████████████████████████████████████████████████████████████████████████                                                          | 7200/10000 [1:01:42<24:25,  1.91it/s]"
     ]
    },
    {
     "name": "stdout",
     "output_type": "stream",
     "text": [
      "udpating save file to id 7200\n"
     ]
    },
    {
     "name": "stderr",
     "output_type": "stream",
     "text": [
      "downloading transactions for moonbirds:  74%|█████████████████████████████████████████████████████████████████████████████████████████████████████████████████████████████████████████████████████████▏                                                     | 7400/10000 [1:03:38<46:41,  1.08s/it]"
     ]
    },
    {
     "name": "stdout",
     "output_type": "stream",
     "text": [
      "udpating save file to id 7400\n"
     ]
    },
    {
     "name": "stderr",
     "output_type": "stream",
     "text": [
      "downloading transactions for moonbirds:  76%|█████████████████████████████████████████████████████████████████████████████████████████████████████████████████████████████████████████████████████████████▎                                                 | 7600/10000 [1:05:27<18:06,  2.21it/s]"
     ]
    },
    {
     "name": "stdout",
     "output_type": "stream",
     "text": [
      "udpating save file to id 7600\n"
     ]
    },
    {
     "name": "stderr",
     "output_type": "stream",
     "text": [
      "downloading transactions for moonbirds:  78%|█████████████████████████████████████████████████████████████████████████████████████████████████████████████████████████████████████████████████████████████████▍                                             | 7800/10000 [1:07:18<19:14,  1.91it/s]"
     ]
    },
    {
     "name": "stdout",
     "output_type": "stream",
     "text": [
      "udpating save file to id 7800\n"
     ]
    },
    {
     "name": "stderr",
     "output_type": "stream",
     "text": [
      "downloading transactions for moonbirds:  80%|█████████████████████████████████████████████████████████████████████████████████████████████████████████████████████████████████████████████████████████████████████▌                                         | 8000/10000 [1:09:11<15:31,  2.15it/s]"
     ]
    },
    {
     "name": "stdout",
     "output_type": "stream",
     "text": [
      "udpating save file to id 8000\n"
     ]
    },
    {
     "name": "stderr",
     "output_type": "stream",
     "text": [
      "downloading transactions for moonbirds:  82%|█████████████████████████████████████████████████████████████████████████████████████████████████████████████████████████████████████████████████████████████████████████▋                                     | 8200/10000 [1:11:03<15:18,  1.96it/s]"
     ]
    },
    {
     "name": "stdout",
     "output_type": "stream",
     "text": [
      "udpating save file to id 8200\n"
     ]
    },
    {
     "name": "stderr",
     "output_type": "stream",
     "text": [
      "downloading transactions for moonbirds:  84%|█████████████████████████████████████████████████████████████████████████████████████████████████████████████████████████████████████████████████████████████████████████████▉                                 | 8400/10000 [1:12:43<13:41,  1.95it/s]"
     ]
    },
    {
     "name": "stdout",
     "output_type": "stream",
     "text": [
      "udpating save file to id 8400\n"
     ]
    },
    {
     "name": "stderr",
     "output_type": "stream",
     "text": [
      "downloading transactions for moonbirds:  86%|██████████████████████████████████████████████████████████████████████████████████████████████████████████████████████████████████████████████████████████████████████████████████                             | 8600/10000 [1:15:10<11:09,  2.09it/s]"
     ]
    },
    {
     "name": "stdout",
     "output_type": "stream",
     "text": [
      "udpating save file to id 8600\n"
     ]
    },
    {
     "name": "stderr",
     "output_type": "stream",
     "text": [
      "downloading transactions for moonbirds:  88%|██████████████████████████████████████████████████████████████████████████████████████████████████████████████████████████████████████████████████████████████████████████████████████▏                        | 8800/10000 [1:16:58<08:34,  2.33it/s]"
     ]
    },
    {
     "name": "stdout",
     "output_type": "stream",
     "text": [
      "udpating save file to id 8800\n"
     ]
    },
    {
     "name": "stderr",
     "output_type": "stream",
     "text": [
      "downloading transactions for moonbirds:  90%|██████████████████████████████████████████████████████████████████████████████████████████████████████████████████████████████████████████████████████████████████████████████████████████▎                    | 9000/10000 [1:18:40<09:37,  1.73it/s]"
     ]
    },
    {
     "name": "stdout",
     "output_type": "stream",
     "text": [
      "udpating save file to id 9000\n"
     ]
    },
    {
     "name": "stderr",
     "output_type": "stream",
     "text": [
      "downloading transactions for moonbirds:  92%|██████████████████████████████████████████████████████████████████████████████████████████████████████████████████████████████████████████████████████████████████████████████████████████████▍                | 9200/10000 [1:20:19<06:54,  1.93it/s]"
     ]
    },
    {
     "name": "stdout",
     "output_type": "stream",
     "text": [
      "udpating save file to id 9200\n"
     ]
    },
    {
     "name": "stderr",
     "output_type": "stream",
     "text": [
      "downloading transactions for moonbirds:  94%|██████████████████████████████████████████████████████████████████████████████████████████████████████████████████████████████████████████████████████████████████████████████████████████████████▌            | 9400/10000 [1:22:22<05:35,  1.79it/s]"
     ]
    },
    {
     "name": "stdout",
     "output_type": "stream",
     "text": [
      "udpating save file to id 9400\n"
     ]
    },
    {
     "name": "stderr",
     "output_type": "stream",
     "text": [
      "downloading transactions for moonbirds:  96%|██████████████████████████████████████████████████████████████████████████████████████████████████████████████████████████████████████████████████████████████████████████████████████████████████████▋        | 9600/10000 [1:24:10<02:49,  2.35it/s]"
     ]
    },
    {
     "name": "stdout",
     "output_type": "stream",
     "text": [
      "udpating save file to id 9600\n"
     ]
    },
    {
     "name": "stderr",
     "output_type": "stream",
     "text": [
      "downloading transactions for moonbirds:  98%|██████████████████████████████████████████████████████████████████████████████████████████████████████████████████████████████████████████████████████████████████████████████████████████████████████████▊    | 9800/10000 [1:25:58<01:42,  1.95it/s]"
     ]
    },
    {
     "name": "stdout",
     "output_type": "stream",
     "text": [
      "udpating save file to id 9800\n"
     ]
    },
    {
     "name": "stderr",
     "output_type": "stream",
     "text": [
      "downloading transactions for moonbirds: 100%|██████████████████████████████████████████████████████████████████████████████████████████████████████████████████████████████████████████████████████████████████████████████████████████████████████████████| 10000/10000 [1:27:31<00:00,  1.90it/s]\n"
     ]
    },
    {
     "name": "stdout",
     "output_type": "stream",
     "text": [
      "Found 7558 for token clonex. Finding transactions...\n"
     ]
    },
    {
     "name": "stderr",
     "output_type": "stream",
     "text": [
      "downloading transactions for clonex:   3%|█████▌                                                                                                                                                                                                              | 200/7558 [02:05<1:18:10,  1.57it/s]"
     ]
    },
    {
     "name": "stdout",
     "output_type": "stream",
     "text": [
      "Saving data up to id 201\n"
     ]
    },
    {
     "name": "stderr",
     "output_type": "stream",
     "text": [
      "downloading transactions for clonex:   5%|███████████▏                                                                                                                                                                                                        | 400/7558 [04:18<1:16:47,  1.55it/s]"
     ]
    },
    {
     "name": "stdout",
     "output_type": "stream",
     "text": [
      "udpating save file to id 401\n"
     ]
    },
    {
     "name": "stderr",
     "output_type": "stream",
     "text": [
      "downloading transactions for clonex:   8%|████████████████▊                                                                                                                                                                                                   | 600/7558 [06:30<1:06:08,  1.75it/s]"
     ]
    },
    {
     "name": "stdout",
     "output_type": "stream",
     "text": [
      "udpating save file to id 601\n"
     ]
    },
    {
     "name": "stderr",
     "output_type": "stream",
     "text": [
      "downloading transactions for clonex:  11%|██████████████████████▍                                                                                                                                                                                             | 800/7558 [09:23<1:07:41,  1.66it/s]"
     ]
    },
    {
     "name": "stdout",
     "output_type": "stream",
     "text": [
      "udpating save file to id 801\n"
     ]
    },
    {
     "name": "stderr",
     "output_type": "stream",
     "text": [
      "downloading transactions for clonex:  13%|███████████████████████████▉                                                                                                                                                                                       | 1000/7558 [11:33<1:29:11,  1.23it/s]"
     ]
    },
    {
     "name": "stdout",
     "output_type": "stream",
     "text": [
      "udpating save file to id 1001\n"
     ]
    },
    {
     "name": "stderr",
     "output_type": "stream",
     "text": [
      "downloading transactions for clonex:  16%|█████████████████████████████████▌                                                                                                                                                                                 | 1200/7558 [13:39<1:01:33,  1.72it/s]"
     ]
    },
    {
     "name": "stdout",
     "output_type": "stream",
     "text": [
      "udpating save file to id 1201\n"
     ]
    },
    {
     "name": "stderr",
     "output_type": "stream",
     "text": [
      "downloading transactions for clonex:  19%|███████████████████████████████████████                                                                                                                                                                            | 1400/7558 [15:43<1:00:30,  1.70it/s]"
     ]
    },
    {
     "name": "stdout",
     "output_type": "stream",
     "text": [
      "udpating save file to id 1401\n"
     ]
    },
    {
     "name": "stderr",
     "output_type": "stream",
     "text": [
      "downloading transactions for clonex:  21%|████████████████████████████████████████████▋                                                                                                                                                                      | 1600/7558 [23:41<5:48:59,  3.51s/it]"
     ]
    },
    {
     "name": "stdout",
     "output_type": "stream",
     "text": [
      "udpating save file to id 1601\n"
     ]
    },
    {
     "name": "stderr",
     "output_type": "stream",
     "text": [
      "downloading transactions for clonex:  24%|██████████████████████████████████████████████████▎                                                                                                                                                                | 1800/7558 [25:43<1:04:47,  1.48it/s]"
     ]
    },
    {
     "name": "stdout",
     "output_type": "stream",
     "text": [
      "udpating save file to id 1801\n"
     ]
    },
    {
     "name": "stderr",
     "output_type": "stream",
     "text": [
      "downloading transactions for clonex:  26%|████████████████████████████████████████████████████████▎                                                                                                                                                            | 2000/7558 [27:49<53:20,  1.74it/s]"
     ]
    },
    {
     "name": "stdout",
     "output_type": "stream",
     "text": [
      "udpating save file to id 2001\n"
     ]
    },
    {
     "name": "stderr",
     "output_type": "stream",
     "text": [
      "downloading transactions for clonex:  29%|██████████████████████████████████████████████████████████████                                                                                                                                                       | 2200/7558 [29:53<57:16,  1.56it/s]"
     ]
    },
    {
     "name": "stdout",
     "output_type": "stream",
     "text": [
      "udpating save file to id 2201\n"
     ]
    },
    {
     "name": "stderr",
     "output_type": "stream",
     "text": [
      "downloading transactions for clonex:  32%|███████████████████████████████████████████████████████████████████▋                                                                                                                                                 | 2400/7558 [31:52<48:24,  1.78it/s]"
     ]
    },
    {
     "name": "stdout",
     "output_type": "stream",
     "text": [
      "udpating save file to id 2401\n"
     ]
    },
    {
     "name": "stderr",
     "output_type": "stream",
     "text": [
      "downloading transactions for clonex:  34%|█████████████████████████████████████████████████████████████████████████▎                                                                                                                                           | 2600/7558 [33:49<47:03,  1.76it/s]"
     ]
    },
    {
     "name": "stdout",
     "output_type": "stream",
     "text": [
      "udpating save file to id 2601\n"
     ]
    },
    {
     "name": "stderr",
     "output_type": "stream",
     "text": [
      "downloading transactions for clonex:  37%|██████████████████████████████████████████████████████████████████████████████▉                                                                                                                                      | 2800/7558 [35:48<44:01,  1.80it/s]"
     ]
    },
    {
     "name": "stdout",
     "output_type": "stream",
     "text": [
      "udpating save file to id 2801\n"
     ]
    },
    {
     "name": "stderr",
     "output_type": "stream",
     "text": [
      "downloading transactions for clonex:  40%|████████████████████████████████████████████████████████████████████████████████████▌                                                                                                                                | 3000/7558 [37:41<44:04,  1.72it/s]"
     ]
    },
    {
     "name": "stdout",
     "output_type": "stream",
     "text": [
      "udpating save file to id 3001\n"
     ]
    },
    {
     "name": "stderr",
     "output_type": "stream",
     "text": [
      "downloading transactions for clonex:  42%|██████████████████████████████████████████████████████████████████████████████████████████▏                                                                                                                          | 3200/7558 [39:35<39:40,  1.83it/s]"
     ]
    },
    {
     "name": "stdout",
     "output_type": "stream",
     "text": [
      "udpating save file to id 3201\n"
     ]
    },
    {
     "name": "stderr",
     "output_type": "stream",
     "text": [
      "downloading transactions for clonex:  45%|███████████████████████████████████████████████████████████████████████████████████████████████▊                                                                                                                     | 3400/7558 [41:32<40:11,  1.72it/s]"
     ]
    },
    {
     "name": "stdout",
     "output_type": "stream",
     "text": [
      "udpating save file to id 3401\n"
     ]
    },
    {
     "name": "stderr",
     "output_type": "stream",
     "text": [
      "downloading transactions for clonex:  48%|█████████████████████████████████████████████████████████████████████████████████████████████████████▍                                                                                                               | 3600/7558 [43:33<44:53,  1.47it/s]"
     ]
    },
    {
     "name": "stdout",
     "output_type": "stream",
     "text": [
      "udpating save file to id 3601\n"
     ]
    },
    {
     "name": "stderr",
     "output_type": "stream",
     "text": [
      "downloading transactions for clonex:  50%|███████████████████████████████████████████████████████████████████████████████████████████████████████████                                                                                                          | 3800/7558 [45:29<49:18,  1.27it/s]"
     ]
    },
    {
     "name": "stdout",
     "output_type": "stream",
     "text": [
      "udpating save file to id 3801\n"
     ]
    },
    {
     "name": "stderr",
     "output_type": "stream",
     "text": [
      "downloading transactions for clonex:  53%|████████████████████████████████████████████████████████████████████████████████████████████████████████████████▋                                                                                                    | 4000/7558 [47:35<33:59,  1.74it/s]"
     ]
    },
    {
     "name": "stdout",
     "output_type": "stream",
     "text": [
      "udpating save file to id 4001\n"
     ]
    },
    {
     "name": "stderr",
     "output_type": "stream",
     "text": [
      "downloading transactions for clonex:  56%|██████████████████████████████████████████████████████████████████████████████████████████████████████████████████████▎                                                                                              | 4200/7558 [49:32<31:54,  1.75it/s]"
     ]
    },
    {
     "name": "stdout",
     "output_type": "stream",
     "text": [
      "udpating save file to id 4201\n"
     ]
    },
    {
     "name": "stderr",
     "output_type": "stream",
     "text": [
      "downloading transactions for clonex:  58%|████████████████████████████████████████████████████████████████████████████████████████████████████████████████████████████                                                                                         | 4400/7558 [51:49<29:00,  1.81it/s]"
     ]
    },
    {
     "name": "stdout",
     "output_type": "stream",
     "text": [
      "udpating save file to id 4401\n"
     ]
    },
    {
     "name": "stderr",
     "output_type": "stream",
     "text": [
      "downloading transactions for clonex:  61%|█████████████████████████████████████████████████████████████████████████████████████████████████████████████████████████████████▋                                                                                   | 4600/7558 [53:44<26:24,  1.87it/s]"
     ]
    },
    {
     "name": "stdout",
     "output_type": "stream",
     "text": [
      "udpating save file to id 4601\n"
     ]
    },
    {
     "name": "stderr",
     "output_type": "stream",
     "text": [
      "downloading transactions for clonex:  64%|███████████████████████████████████████████████████████████████████████████████████████████████████████████████████████████████████████▎                                                                             | 4800/7558 [55:42<26:53,  1.71it/s]"
     ]
    },
    {
     "name": "stdout",
     "output_type": "stream",
     "text": [
      "udpating save file to id 4801\n"
     ]
    },
    {
     "name": "stderr",
     "output_type": "stream",
     "text": [
      "downloading transactions for clonex:  66%|████████████████████████████████████████████████████████████████████████████████████████████████████████████████████████████████████████████▉                                                                        | 5000/7558 [57:35<23:26,  1.82it/s]"
     ]
    },
    {
     "name": "stdout",
     "output_type": "stream",
     "text": [
      "udpating save file to id 5001\n"
     ]
    },
    {
     "name": "stderr",
     "output_type": "stream",
     "text": [
      "downloading transactions for clonex:  69%|██████████████████████████████████████████████████████████████████████████████████████████████████████████████████████████████████████████████████▌                                                                  | 5200/7558 [59:34<21:25,  1.83it/s]"
     ]
    },
    {
     "name": "stdout",
     "output_type": "stream",
     "text": [
      "udpating save file to id 5201\n"
     ]
    },
    {
     "name": "stderr",
     "output_type": "stream",
     "text": [
      "downloading transactions for clonex:  71%|██████████████████████████████████████████████████████████████████████████████████████████████████████████████████████████████████████████████████████▊                                                            | 5400/7558 [1:01:28<19:17,  1.87it/s]"
     ]
    },
    {
     "name": "stdout",
     "output_type": "stream",
     "text": [
      "udpating save file to id 5401\n"
     ]
    },
    {
     "name": "stderr",
     "output_type": "stream",
     "text": [
      "downloading transactions for clonex:  74%|████████████████████████████████████████████████████████████████████████████████████████████████████████████████████████████████████████████████████████████▎                                                      | 5600/7558 [1:03:22<17:52,  1.83it/s]"
     ]
    },
    {
     "name": "stdout",
     "output_type": "stream",
     "text": [
      "udpating save file to id 5601\n"
     ]
    },
    {
     "name": "stderr",
     "output_type": "stream",
     "text": [
      "downloading transactions for clonex:  77%|█████████████████████████████████████████████████████████████████████████████████████████████████████████████████████████████████████████████████████████████████▉                                                 | 5800/7558 [1:05:15<15:39,  1.87it/s]"
     ]
    },
    {
     "name": "stdout",
     "output_type": "stream",
     "text": [
      "udpating save file to id 5801\n"
     ]
    },
    {
     "name": "stderr",
     "output_type": "stream",
     "text": [
      "downloading transactions for clonex:  79%|███████████████████████████████████████████████████████████████████████████████████████████████████████████████████████████████████████████████████████████████████████▌                                           | 6000/7558 [1:07:11<15:05,  1.72it/s]"
     ]
    },
    {
     "name": "stdout",
     "output_type": "stream",
     "text": [
      "udpating save file to id 6001\n"
     ]
    },
    {
     "name": "stderr",
     "output_type": "stream",
     "text": [
      "downloading transactions for clonex:  82%|█████████████████████████████████████████████████████████████████████████████████████████████████████████████████████████████████████████████████████████████████████████████                                      | 6200/7558 [1:09:06<12:33,  1.80it/s]"
     ]
    },
    {
     "name": "stdout",
     "output_type": "stream",
     "text": [
      "udpating save file to id 6201\n"
     ]
    },
    {
     "name": "stderr",
     "output_type": "stream",
     "text": [
      "downloading transactions for clonex:  85%|██████████████████████████████████████████████████████████████████████████████████████████████████████████████████████████████████████████████████████████████████████████████████▋                                | 6400/7558 [1:11:11<10:48,  1.79it/s]"
     ]
    },
    {
     "name": "stdout",
     "output_type": "stream",
     "text": [
      "udpating save file to id 6401\n"
     ]
    },
    {
     "name": "stderr",
     "output_type": "stream",
     "text": [
      "downloading transactions for clonex:  87%|████████████████████████████████████████████████████████████████████████████████████████████████████████████████████████████████████████████████████████████████████████████████████████▎                          | 6600/7558 [1:13:09<10:07,  1.58it/s]"
     ]
    },
    {
     "name": "stdout",
     "output_type": "stream",
     "text": [
      "udpating save file to id 6601\n"
     ]
    },
    {
     "name": "stderr",
     "output_type": "stream",
     "text": [
      "downloading transactions for clonex:  90%|█████████████████████████████████████████████████████████████████████████████████████████████████████████████████████████████████████████████████████████████████████████████████████████████▊                     | 6800/7558 [1:15:13<06:53,  1.84it/s]"
     ]
    },
    {
     "name": "stdout",
     "output_type": "stream",
     "text": [
      "udpating save file to id 6801\n"
     ]
    },
    {
     "name": "stderr",
     "output_type": "stream",
     "text": [
      "downloading transactions for clonex:  93%|███████████████████████████████████████████████████████████████████████████████████████████████████████████████████████████████████████████████████████████████████████████████████████████████████▍               | 7000/7558 [1:17:23<05:50,  1.59it/s]"
     ]
    },
    {
     "name": "stdout",
     "output_type": "stream",
     "text": [
      "udpating save file to id 7001\n"
     ]
    },
    {
     "name": "stderr",
     "output_type": "stream",
     "text": [
      "downloading transactions for clonex:  95%|█████████████████████████████████████████████████████████████████████████████████████████████████████████████████████████████████████████████████████████████████████████████████████████████████████████          | 7200/7558 [1:19:41<04:05,  1.46it/s]"
     ]
    },
    {
     "name": "stdout",
     "output_type": "stream",
     "text": [
      "udpating save file to id 7201\n"
     ]
    },
    {
     "name": "stderr",
     "output_type": "stream",
     "text": [
      "downloading transactions for clonex:  98%|██████████████████████████████████████████████████████████████████████████████████████████████████████████████████████████████████████████████████████████████████████████████████████████████████████████████▌    | 7400/7558 [1:22:04<01:35,  1.65it/s]"
     ]
    },
    {
     "name": "stdout",
     "output_type": "stream",
     "text": [
      "udpating save file to id 7401\n"
     ]
    },
    {
     "name": "stderr",
     "output_type": "stream",
     "text": [
      "downloading transactions for clonex: 100%|███████████████████████████████████████████████████████████████████████████████████████████████████████████████████████████████████████████████████████████████████████████████████████████████████████████████████| 7558/7558 [1:23:41<00:00,  1.50it/s]\n"
     ]
    },
    {
     "name": "stdout",
     "output_type": "stream",
     "text": [
      "Found 19418 for token mayc. Finding transactions...\n"
     ]
    },
    {
     "name": "stderr",
     "output_type": "stream",
     "text": [
      "downloading transactions for mayc:   1%|██▏                                                                                                                                                                                                                  | 200/19418 [05:16<7:39:55,  1.44s/it]"
     ]
    },
    {
     "name": "stdout",
     "output_type": "stream",
     "text": [
      "Saving data up to id 200\n"
     ]
    },
    {
     "name": "stderr",
     "output_type": "stream",
     "text": [
      "downloading transactions for mayc:   2%|████▍                                                                                                                                                                                                                | 400/19418 [10:15<7:44:24,  1.47s/it]"
     ]
    },
    {
     "name": "stdout",
     "output_type": "stream",
     "text": [
      "udpating save file to id 400\n"
     ]
    },
    {
     "name": "stderr",
     "output_type": "stream",
     "text": [
      "downloading transactions for mayc:   3%|██████▌                                                                                                                                                                                                              | 600/19418 [15:16<8:17:00,  1.58s/it]"
     ]
    },
    {
     "name": "stdout",
     "output_type": "stream",
     "text": [
      "udpating save file to id 600\n"
     ]
    },
    {
     "name": "stderr",
     "output_type": "stream",
     "text": [
      "downloading transactions for mayc:   4%|████████▊                                                                                                                                                                                                            | 800/19418 [20:19<7:24:18,  1.43s/it]"
     ]
    },
    {
     "name": "stdout",
     "output_type": "stream",
     "text": [
      "udpating save file to id 800\n"
     ]
    },
    {
     "name": "stderr",
     "output_type": "stream",
     "text": [
      "downloading transactions for mayc:   5%|██████████▉                                                                                                                                                                                                         | 1000/19418 [25:23<8:09:10,  1.59s/it]"
     ]
    },
    {
     "name": "stdout",
     "output_type": "stream",
     "text": [
      "udpating save file to id 1000\n"
     ]
    },
    {
     "name": "stderr",
     "output_type": "stream",
     "text": [
      "downloading transactions for mayc:   6%|█████████████                                                                                                                                                                                                       | 1200/19418 [30:27<7:41:20,  1.52s/it]"
     ]
    },
    {
     "name": "stdout",
     "output_type": "stream",
     "text": [
      "udpating save file to id 1200\n"
     ]
    },
    {
     "name": "stderr",
     "output_type": "stream",
     "text": [
      "downloading transactions for mayc:   7%|███████████████▎                                                                                                                                                                                                    | 1400/19418 [35:26<7:36:56,  1.52s/it]"
     ]
    },
    {
     "name": "stdout",
     "output_type": "stream",
     "text": [
      "udpating save file to id 1400\n"
     ]
    },
    {
     "name": "stderr",
     "output_type": "stream",
     "text": [
      "downloading transactions for mayc:   8%|█████████████████▍                                                                                                                                                                                                  | 1600/19418 [40:43<6:54:44,  1.40s/it]"
     ]
    },
    {
     "name": "stdout",
     "output_type": "stream",
     "text": [
      "udpating save file to id 1600\n"
     ]
    },
    {
     "name": "stderr",
     "output_type": "stream",
     "text": [
      "downloading transactions for mayc:   9%|███████████████████▋                                                                                                                                                                                                | 1800/19418 [45:32<7:18:35,  1.49s/it]"
     ]
    },
    {
     "name": "stdout",
     "output_type": "stream",
     "text": [
      "udpating save file to id 1800\n"
     ]
    },
    {
     "name": "stderr",
     "output_type": "stream",
     "text": [
      "downloading transactions for mayc:  10%|█████████████████████▊                                                                                                                                                                                              | 2000/19418 [50:25<6:41:21,  1.38s/it]"
     ]
    },
    {
     "name": "stdout",
     "output_type": "stream",
     "text": [
      "udpating save file to id 2000\n"
     ]
    },
    {
     "name": "stderr",
     "output_type": "stream",
     "text": [
      "downloading transactions for mayc:  11%|████████████████████████                                                                                                                                                                                            | 2200/19418 [55:22<7:11:16,  1.50s/it]"
     ]
    },
    {
     "name": "stdout",
     "output_type": "stream",
     "text": [
      "udpating save file to id 2200\n"
     ]
    },
    {
     "name": "stderr",
     "output_type": "stream",
     "text": [
      "downloading transactions for mayc:  12%|█████████████████████████▉                                                                                                                                                                                        | 2400/19418 [1:00:15<7:04:14,  1.50s/it]"
     ]
    },
    {
     "name": "stdout",
     "output_type": "stream",
     "text": [
      "udpating save file to id 2400\n"
     ]
    },
    {
     "name": "stderr",
     "output_type": "stream",
     "text": [
      "downloading transactions for mayc:  13%|████████████████████████████                                                                                                                                                                                      | 2600/19418 [1:05:08<7:53:24,  1.69s/it]"
     ]
    },
    {
     "name": "stdout",
     "output_type": "stream",
     "text": [
      "udpating save file to id 2600\n"
     ]
    },
    {
     "name": "stderr",
     "output_type": "stream",
     "text": [
      "downloading transactions for mayc:  14%|██████████████████████████████▎                                                                                                                                                                                   | 2800/19418 [1:10:00<6:22:56,  1.38s/it]"
     ]
    },
    {
     "name": "stdout",
     "output_type": "stream",
     "text": [
      "udpating save file to id 2800\n"
     ]
    },
    {
     "name": "stderr",
     "output_type": "stream",
     "text": [
      "downloading transactions for mayc:  15%|████████████████████████████████▍                                                                                                                                                                                 | 3000/19418 [1:14:51<6:28:02,  1.42s/it]"
     ]
    },
    {
     "name": "stdout",
     "output_type": "stream",
     "text": [
      "udpating save file to id 3000\n"
     ]
    },
    {
     "name": "stderr",
     "output_type": "stream",
     "text": [
      "downloading transactions for mayc:  16%|██████████████████████████████████▌                                                                                                                                                                               | 3200/19418 [1:19:43<6:17:29,  1.40s/it]"
     ]
    },
    {
     "name": "stdout",
     "output_type": "stream",
     "text": [
      "udpating save file to id 3200\n"
     ]
    },
    {
     "name": "stderr",
     "output_type": "stream",
     "text": [
      "downloading transactions for mayc:  18%|████████████████████████████████████▊                                                                                                                                                                             | 3400/19418 [1:24:38<6:20:26,  1.43s/it]"
     ]
    },
    {
     "name": "stdout",
     "output_type": "stream",
     "text": [
      "udpating save file to id 3400\n"
     ]
    },
    {
     "name": "stderr",
     "output_type": "stream",
     "text": [
      "downloading transactions for mayc:  19%|██████████████████████████████████████▉                                                                                                                                                                           | 3600/19418 [1:29:32<6:14:32,  1.42s/it]"
     ]
    },
    {
     "name": "stdout",
     "output_type": "stream",
     "text": [
      "udpating save file to id 3600\n"
     ]
    },
    {
     "name": "stderr",
     "output_type": "stream",
     "text": [
      "downloading transactions for mayc:  20%|█████████████████████████████████████████                                                                                                                                                                         | 3800/19418 [1:34:22<6:23:19,  1.47s/it]"
     ]
    },
    {
     "name": "stdout",
     "output_type": "stream",
     "text": [
      "udpating save file to id 3800\n"
     ]
    },
    {
     "name": "stderr",
     "output_type": "stream",
     "text": [
      "downloading transactions for mayc:  21%|███████████████████████████████████████████▎                                                                                                                                                                      | 4000/19418 [1:39:24<6:30:04,  1.52s/it]"
     ]
    },
    {
     "name": "stdout",
     "output_type": "stream",
     "text": [
      "udpating save file to id 4000\n"
     ]
    },
    {
     "name": "stderr",
     "output_type": "stream",
     "text": [
      "downloading transactions for mayc:  22%|█████████████████████████████████████████████▍                                                                                                                                                                    | 4200/19418 [1:44:19<5:55:15,  1.40s/it]"
     ]
    },
    {
     "name": "stdout",
     "output_type": "stream",
     "text": [
      "udpating save file to id 4200\n"
     ]
    },
    {
     "name": "stderr",
     "output_type": "stream",
     "text": [
      "downloading transactions for mayc:  23%|███████████████████████████████████████████████▌                                                                                                                                                                  | 4400/19418 [1:49:11<6:07:26,  1.47s/it]"
     ]
    },
    {
     "name": "stdout",
     "output_type": "stream",
     "text": [
      "udpating save file to id 4400\n"
     ]
    },
    {
     "name": "stderr",
     "output_type": "stream",
     "text": [
      "downloading transactions for mayc:  24%|█████████████████████████████████████████████████▋                                                                                                                                                                | 4600/19418 [1:54:13<5:58:21,  1.45s/it]"
     ]
    },
    {
     "name": "stdout",
     "output_type": "stream",
     "text": [
      "udpating save file to id 4600\n"
     ]
    },
    {
     "name": "stderr",
     "output_type": "stream",
     "text": [
      "downloading transactions for mayc:  25%|███████████████████████████████████████████████████▉                                                                                                                                                              | 4800/19418 [1:59:10<5:45:22,  1.42s/it]"
     ]
    },
    {
     "name": "stdout",
     "output_type": "stream",
     "text": [
      "udpating save file to id 4800\n"
     ]
    },
    {
     "name": "stderr",
     "output_type": "stream",
     "text": [
      "downloading transactions for mayc:  26%|██████████████████████████████████████████████████████                                                                                                                                                            | 5000/19418 [2:04:05<5:33:36,  1.39s/it]"
     ]
    },
    {
     "name": "stdout",
     "output_type": "stream",
     "text": [
      "udpating save file to id 5000\n"
     ]
    },
    {
     "name": "stderr",
     "output_type": "stream",
     "text": [
      "downloading transactions for mayc:  27%|████████████████████████████████████████████████████████▏                                                                                                                                                         | 5200/19418 [2:09:05<5:57:28,  1.51s/it]"
     ]
    },
    {
     "name": "stdout",
     "output_type": "stream",
     "text": [
      "udpating save file to id 5200\n"
     ]
    },
    {
     "name": "stderr",
     "output_type": "stream",
     "text": [
      "downloading transactions for mayc:  28%|██████████████████████████████████████████████████████████▍                                                                                                                                                       | 5400/19418 [2:14:05<5:36:07,  1.44s/it]"
     ]
    },
    {
     "name": "stdout",
     "output_type": "stream",
     "text": [
      "udpating save file to id 5400\n"
     ]
    },
    {
     "name": "stderr",
     "output_type": "stream",
     "text": [
      "downloading transactions for mayc:  29%|████████████████████████████████████████████████████████████▌                                                                                                                                                     | 5600/19418 [2:19:01<6:02:50,  1.58s/it]"
     ]
    },
    {
     "name": "stdout",
     "output_type": "stream",
     "text": [
      "udpating save file to id 5600\n"
     ]
    },
    {
     "name": "stderr",
     "output_type": "stream",
     "text": [
      "downloading transactions for mayc:  30%|██████████████████████████████████████████████████████████████▋                                                                                                                                                   | 5800/19418 [2:24:02<5:28:29,  1.45s/it]"
     ]
    },
    {
     "name": "stdout",
     "output_type": "stream",
     "text": [
      "udpating save file to id 5800\n"
     ]
    },
    {
     "name": "stderr",
     "output_type": "stream",
     "text": [
      "downloading transactions for mayc:  31%|████████████████████████████████████████████████████████████████▉                                                                                                                                                 | 6000/19418 [2:29:03<6:30:38,  1.75s/it]"
     ]
    },
    {
     "name": "stdout",
     "output_type": "stream",
     "text": [
      "udpating save file to id 6000\n"
     ]
    },
    {
     "name": "stderr",
     "output_type": "stream",
     "text": [
      "downloading transactions for mayc:  32%|███████████████████████████████████████████████████████████████████                                                                                                                                               | 6200/19418 [2:33:59<5:29:32,  1.50s/it]"
     ]
    },
    {
     "name": "stdout",
     "output_type": "stream",
     "text": [
      "udpating save file to id 6200\n"
     ]
    },
    {
     "name": "stderr",
     "output_type": "stream",
     "text": [
      "downloading transactions for mayc:  33%|█████████████████████████████████████████████████████████████████████▏                                                                                                                                            | 6400/19418 [2:38:57<5:13:31,  1.45s/it]"
     ]
    },
    {
     "name": "stdout",
     "output_type": "stream",
     "text": [
      "udpating save file to id 6400\n"
     ]
    },
    {
     "name": "stderr",
     "output_type": "stream",
     "text": [
      "downloading transactions for mayc:  34%|███████████████████████████████████████████████████████████████████████▍                                                                                                                                          | 6600/19418 [2:43:49<5:07:36,  1.44s/it]"
     ]
    },
    {
     "name": "stdout",
     "output_type": "stream",
     "text": [
      "udpating save file to id 6600\n"
     ]
    },
    {
     "name": "stderr",
     "output_type": "stream",
     "text": [
      "downloading transactions for mayc:  35%|█████████████████████████████████████████████████████████████████████████▌                                                                                                                                        | 6800/19418 [2:48:40<5:09:08,  1.47s/it]"
     ]
    },
    {
     "name": "stdout",
     "output_type": "stream",
     "text": [
      "udpating save file to id 6800\n"
     ]
    },
    {
     "name": "stderr",
     "output_type": "stream",
     "text": [
      "downloading transactions for mayc:  36%|███████████████████████████████████████████████████████████████████████████▋                                                                                                                                      | 7000/19418 [2:53:34<4:56:11,  1.43s/it]"
     ]
    },
    {
     "name": "stdout",
     "output_type": "stream",
     "text": [
      "udpating save file to id 7000\n"
     ]
    },
    {
     "name": "stderr",
     "output_type": "stream",
     "text": [
      "downloading transactions for mayc:  37%|█████████████████████████████████████████████████████████████████████████████▊                                                                                                                                    | 7200/19418 [2:58:32<4:55:37,  1.45s/it]"
     ]
    },
    {
     "name": "stdout",
     "output_type": "stream",
     "text": [
      "udpating save file to id 7200\n"
     ]
    },
    {
     "name": "stderr",
     "output_type": "stream",
     "text": [
      "downloading transactions for mayc:  38%|████████████████████████████████████████████████████████████████████████████████                                                                                                                                  | 7400/19418 [3:03:26<4:52:34,  1.46s/it]"
     ]
    },
    {
     "name": "stdout",
     "output_type": "stream",
     "text": [
      "udpating save file to id 7400\n"
     ]
    },
    {
     "name": "stderr",
     "output_type": "stream",
     "text": [
      "downloading transactions for mayc:  39%|██████████████████████████████████████████████████████████████████████████████████▏                                                                                                                               | 7600/19418 [3:08:22<4:40:33,  1.42s/it]"
     ]
    },
    {
     "name": "stdout",
     "output_type": "stream",
     "text": [
      "udpating save file to id 7600\n"
     ]
    },
    {
     "name": "stderr",
     "output_type": "stream",
     "text": [
      "downloading transactions for mayc:  40%|████████████████████████████████████████████████████████████████████████████████████▎                                                                                                                             | 7800/19418 [3:13:15<4:50:57,  1.50s/it]"
     ]
    },
    {
     "name": "stdout",
     "output_type": "stream",
     "text": [
      "udpating save file to id 7800\n"
     ]
    },
    {
     "name": "stderr",
     "output_type": "stream",
     "text": [
      "downloading transactions for mayc:  41%|██████████████████████████████████████████████████████████████████████████████████████▌                                                                                                                           | 8000/19418 [3:18:11<4:32:47,  1.43s/it]"
     ]
    },
    {
     "name": "stdout",
     "output_type": "stream",
     "text": [
      "udpating save file to id 8000\n"
     ]
    },
    {
     "name": "stderr",
     "output_type": "stream",
     "text": [
      "downloading transactions for mayc:  42%|████████████████████████████████████████████████████████████████████████████████████████▋                                                                                                                         | 8200/19418 [3:23:03<4:26:55,  1.43s/it]"
     ]
    },
    {
     "name": "stdout",
     "output_type": "stream",
     "text": [
      "udpating save file to id 8200\n"
     ]
    },
    {
     "name": "stderr",
     "output_type": "stream",
     "text": [
      "downloading transactions for mayc:  43%|██████████████████████████████████████████████████████████████████████████████████████████▊                                                                                                                       | 8400/19418 [3:28:00<4:13:14,  1.38s/it]"
     ]
    },
    {
     "name": "stdout",
     "output_type": "stream",
     "text": [
      "udpating save file to id 8400\n"
     ]
    },
    {
     "name": "stderr",
     "output_type": "stream",
     "text": [
      "downloading transactions for mayc:  44%|█████████████████████████████████████████████████████████████████████████████████████████████                                                                                                                     | 8600/19418 [3:32:54<4:18:06,  1.43s/it]"
     ]
    },
    {
     "name": "stdout",
     "output_type": "stream",
     "text": [
      "udpating save file to id 8600\n"
     ]
    },
    {
     "name": "stderr",
     "output_type": "stream",
     "text": [
      "downloading transactions for mayc:  45%|██████████████████████████████████████████████████████████████████████████████████████████████▊                                                                                                                   | 8770/19418 [3:37:05<3:11:36,  1.08s/it]"
     ]
    },
    {
     "name": "stdout",
     "output_type": "stream",
     "text": [
      "[Errno Expecting value] <html>\r\n",
      "<head><title>502 Bad Gateway</title></head>\r\n",
      "<body>\r\n",
      "<center><h1>502 Bad Gateway</h1></center>\r\n",
      "<hr><center>cloudflare</center>\r\n",
      "</body>\r\n",
      "</html>\r\n",
      ": 0\n"
     ]
    },
    {
     "name": "stderr",
     "output_type": "stream",
     "text": [
      "downloading transactions for mayc:  45%|███████████████████████████████████████████████████████████████████████████████████████████████▏                                                                                                                  | 8801/19418 [3:37:50<4:56:53,  1.68s/it]"
     ]
    },
    {
     "name": "stdout",
     "output_type": "stream",
     "text": [
      "udpating save file to id 8801\n"
     ]
    },
    {
     "name": "stderr",
     "output_type": "stream",
     "text": [
      "downloading transactions for mayc:  46%|█████████████████████████████████████████████████████████████████████████████████████████████████▎                                                                                                                | 9001/19418 [3:42:41<4:05:19,  1.41s/it]"
     ]
    },
    {
     "name": "stdout",
     "output_type": "stream",
     "text": [
      "udpating save file to id 9001\n"
     ]
    },
    {
     "name": "stderr",
     "output_type": "stream",
     "text": [
      "downloading transactions for mayc:  47%|███████████████████████████████████████████████████████████████████████████████████████████████████▌                                                                                                              | 9201/19418 [3:47:34<4:10:53,  1.47s/it]"
     ]
    },
    {
     "name": "stdout",
     "output_type": "stream",
     "text": [
      "udpating save file to id 9201\n"
     ]
    },
    {
     "name": "stderr",
     "output_type": "stream",
     "text": [
      "downloading transactions for mayc:  48%|█████████████████████████████████████████████████████████████████████████████████████████████████████▋                                                                                                            | 9401/19418 [3:52:25<4:04:48,  1.47s/it]"
     ]
    },
    {
     "name": "stdout",
     "output_type": "stream",
     "text": [
      "udpating save file to id 9401\n"
     ]
    },
    {
     "name": "stderr",
     "output_type": "stream",
     "text": [
      "downloading transactions for mayc:  49%|███████████████████████████████████████████████████████████████████████████████████████████████████████▊                                                                                                          | 9601/19418 [3:57:21<3:55:24,  1.44s/it]"
     ]
    },
    {
     "name": "stdout",
     "output_type": "stream",
     "text": [
      "udpating save file to id 9601\n"
     ]
    },
    {
     "name": "stderr",
     "output_type": "stream",
     "text": [
      "downloading transactions for mayc:  50%|█████████████████████████████████████████████████████████████████████████████████████████████████████████▉                                                                                                        | 9801/19418 [4:02:12<3:54:07,  1.46s/it]"
     ]
    },
    {
     "name": "stdout",
     "output_type": "stream",
     "text": [
      "udpating save file to id 9801\n"
     ]
    },
    {
     "name": "stderr",
     "output_type": "stream",
     "text": [
      "downloading transactions for mayc:  52%|███████████████████████████████████████████████████████████████████████████████████████████████████████████▋                                                                                                     | 10001/19418 [4:07:04<3:35:56,  1.38s/it]"
     ]
    },
    {
     "name": "stdout",
     "output_type": "stream",
     "text": [
      "udpating save file to id 10002\n"
     ]
    },
    {
     "name": "stderr",
     "output_type": "stream",
     "text": [
      "downloading transactions for mayc:  53%|█████████████████████████████████████████████████████████████████████████████████████████████████████████████▊                                                                                                   | 10201/19418 [4:11:47<3:36:29,  1.41s/it]"
     ]
    },
    {
     "name": "stdout",
     "output_type": "stream",
     "text": [
      "udpating save file to id 10408\n"
     ]
    },
    {
     "name": "stderr",
     "output_type": "stream",
     "text": [
      "downloading transactions for mayc:  54%|███████████████████████████████████████████████████████████████████████████████████████████████████████████████▉                                                                                                 | 10401/19418 [4:16:32<3:28:46,  1.39s/it]"
     ]
    },
    {
     "name": "stdout",
     "output_type": "stream",
     "text": [
      "udpating save file to id 10790\n"
     ]
    },
    {
     "name": "stderr",
     "output_type": "stream",
     "text": [
      "downloading transactions for mayc:  55%|██████████████████████████████████████████████████████████████████████████████████████████████████████████████████                                                                                               | 10601/19418 [4:21:18<3:26:42,  1.41s/it]"
     ]
    },
    {
     "name": "stdout",
     "output_type": "stream",
     "text": [
      "udpating save file to id 11210\n"
     ]
    },
    {
     "name": "stderr",
     "output_type": "stream",
     "text": [
      "downloading transactions for mayc:  56%|████████████████████████████████████████████████████████████████████████████████████████████████████████████████████▎                                                                                            | 10801/19418 [4:26:15<3:28:38,  1.45s/it]"
     ]
    },
    {
     "name": "stdout",
     "output_type": "stream",
     "text": [
      "udpating save file to id 11641\n"
     ]
    },
    {
     "name": "stderr",
     "output_type": "stream",
     "text": [
      "downloading transactions for mayc:  57%|██████████████████████████████████████████████████████████████████████████████████████████████████████████████████████▍                                                                                          | 11001/19418 [4:30:59<3:05:57,  1.33s/it]"
     ]
    },
    {
     "name": "stdout",
     "output_type": "stream",
     "text": [
      "udpating save file to id 12049\n"
     ]
    },
    {
     "name": "stderr",
     "output_type": "stream",
     "text": [
      "downloading transactions for mayc:  58%|████████████████████████████████████████████████████████████████████████████████████████████████████████████████████████▌                                                                                        | 11201/19418 [4:35:40<3:03:21,  1.34s/it]"
     ]
    },
    {
     "name": "stdout",
     "output_type": "stream",
     "text": [
      "udpating save file to id 12469\n"
     ]
    },
    {
     "name": "stderr",
     "output_type": "stream",
     "text": [
      "downloading transactions for mayc:  59%|██████████████████████████████████████████████████████████████████████████████████████████████████████████████████████████▋                                                                                      | 11401/19418 [4:40:32<3:21:35,  1.51s/it]"
     ]
    },
    {
     "name": "stdout",
     "output_type": "stream",
     "text": [
      "udpating save file to id 12894\n"
     ]
    },
    {
     "name": "stderr",
     "output_type": "stream",
     "text": [
      "downloading transactions for mayc:  60%|████████████████████████████████████████████████████████████████████████████████████████████████████████████████████████████▊                                                                                    | 11601/19418 [4:45:24<2:58:06,  1.37s/it]"
     ]
    },
    {
     "name": "stdout",
     "output_type": "stream",
     "text": [
      "udpating save file to id 13313\n"
     ]
    },
    {
     "name": "stderr",
     "output_type": "stream",
     "text": [
      "downloading transactions for mayc:  61%|███████████████████████████████████████████████████████████████████████████████████████████████████████████████████████████████                                                                                  | 11801/19418 [4:50:12<2:59:55,  1.42s/it]"
     ]
    },
    {
     "name": "stdout",
     "output_type": "stream",
     "text": [
      "udpating save file to id 13716\n"
     ]
    },
    {
     "name": "stderr",
     "output_type": "stream",
     "text": [
      "downloading transactions for mayc:  62%|█████████████████████████████████████████████████████████████████████████████████████████████████████████████████████████████████▏                                                                               | 12001/19418 [4:55:05<3:04:36,  1.49s/it]"
     ]
    },
    {
     "name": "stdout",
     "output_type": "stream",
     "text": [
      "udpating save file to id 14124\n"
     ]
    },
    {
     "name": "stderr",
     "output_type": "stream",
     "text": [
      "downloading transactions for mayc:  63%|███████████████████████████████████████████████████████████████████████████████████████████████████████████████████████████████████▎                                                                             | 12201/19418 [5:00:04<3:05:29,  1.54s/it]"
     ]
    },
    {
     "name": "stdout",
     "output_type": "stream",
     "text": [
      "udpating save file to id 14562\n"
     ]
    },
    {
     "name": "stderr",
     "output_type": "stream",
     "text": [
      "downloading transactions for mayc:  64%|█████████████████████████████████████████████████████████████████████████████████████████████████████████████████████████████████████▍                                                                           | 12401/19418 [5:05:03<2:44:50,  1.41s/it]"
     ]
    },
    {
     "name": "stdout",
     "output_type": "stream",
     "text": [
      "udpating save file to id 14986\n"
     ]
    },
    {
     "name": "stderr",
     "output_type": "stream",
     "text": [
      "downloading transactions for mayc:  65%|███████████████████████████████████████████████████████████████████████████████████████████████████████████████████████████████████████▋                                                                         | 12601/19418 [5:09:53<2:42:35,  1.43s/it]"
     ]
    },
    {
     "name": "stdout",
     "output_type": "stream",
     "text": [
      "udpating save file to id 15439\n"
     ]
    },
    {
     "name": "stderr",
     "output_type": "stream",
     "text": [
      "downloading transactions for mayc:  66%|█████████████████████████████████████████████████████████████████████████████████████████████████████████████████████████████████████████▊                                                                       | 12801/19418 [5:14:43<2:40:35,  1.46s/it]"
     ]
    },
    {
     "name": "stdout",
     "output_type": "stream",
     "text": [
      "udpating save file to id 15874\n"
     ]
    },
    {
     "name": "stderr",
     "output_type": "stream",
     "text": [
      "downloading transactions for mayc:  67%|███████████████████████████████████████████████████████████████████████████████████████████████████████████████████████████████████████████▉                                                                     | 13001/19418 [5:19:44<2:30:56,  1.41s/it]"
     ]
    },
    {
     "name": "stdout",
     "output_type": "stream",
     "text": [
      "udpating save file to id 16333\n"
     ]
    },
    {
     "name": "stderr",
     "output_type": "stream",
     "text": [
      "downloading transactions for mayc:  68%|██████████████████████████████████████████████████████████████████████████████████████████████████████████████████████████████████████████████                                                                   | 13201/19418 [5:24:42<2:30:12,  1.45s/it]"
     ]
    },
    {
     "name": "stdout",
     "output_type": "stream",
     "text": [
      "udpating save file to id 16759\n"
     ]
    },
    {
     "name": "stderr",
     "output_type": "stream",
     "text": [
      "downloading transactions for mayc:  69%|████████████████████████████████████████████████████████████████████████████████████████████████████████████████████████████████████████████████▏                                                                | 13401/19418 [5:29:32<2:21:32,  1.41s/it]"
     ]
    },
    {
     "name": "stdout",
     "output_type": "stream",
     "text": [
      "udpating save file to id 17204\n"
     ]
    },
    {
     "name": "stderr",
     "output_type": "stream",
     "text": [
      "downloading transactions for mayc:  70%|██████████████████████████████████████████████████████████████████████████████████████████████████████████████████████████████████████████████████▍                                                              | 13601/19418 [5:34:17<2:17:12,  1.42s/it]"
     ]
    },
    {
     "name": "stdout",
     "output_type": "stream",
     "text": [
      "udpating save file to id 17604\n"
     ]
    },
    {
     "name": "stderr",
     "output_type": "stream",
     "text": [
      "downloading transactions for mayc:  71%|████████████████████████████████████████████████████████████████████████████████████████████████████████████████████████████████████████████████████▌                                                            | 13801/19418 [5:39:12<2:14:33,  1.44s/it]"
     ]
    },
    {
     "name": "stdout",
     "output_type": "stream",
     "text": [
      "udpating save file to id 18020\n"
     ]
    },
    {
     "name": "stderr",
     "output_type": "stream",
     "text": [
      "downloading transactions for mayc:  72%|██████████████████████████████████████████████████████████████████████████████████████████████████████████████████████████████████████████████████████▋                                                          | 14001/19418 [5:44:04<2:08:07,  1.42s/it]"
     ]
    },
    {
     "name": "stdout",
     "output_type": "stream",
     "text": [
      "udpating save file to id 18413\n"
     ]
    },
    {
     "name": "stderr",
     "output_type": "stream",
     "text": [
      "downloading transactions for mayc:  73%|████████████████████████████████████████████████████████████████████████████████████████████████████████████████████████████████████████████████████████▊                                                        | 14201/19418 [5:48:49<1:55:47,  1.33s/it]"
     ]
    },
    {
     "name": "stdout",
     "output_type": "stream",
     "text": [
      "udpating save file to id 18836\n"
     ]
    },
    {
     "name": "stderr",
     "output_type": "stream",
     "text": [
      "downloading transactions for mayc:  74%|███████████████████████████████████████████████████████████████████████████████████████████████████████████████████████████████████████████████████████████                                                      | 14401/19418 [5:53:43<2:14:18,  1.61s/it]"
     ]
    },
    {
     "name": "stdout",
     "output_type": "stream",
     "text": [
      "udpating save file to id 19262\n"
     ]
    },
    {
     "name": "stderr",
     "output_type": "stream",
     "text": [
      "downloading transactions for mayc:  75%|█████████████████████████████████████████████████████████████████████████████████████████████████████████████████████████████████████████████████████████████▏                                                   | 14601/19418 [5:58:35<1:51:56,  1.39s/it]"
     ]
    },
    {
     "name": "stdout",
     "output_type": "stream",
     "text": [
      "udpating save file to id 19698\n"
     ]
    },
    {
     "name": "stderr",
     "output_type": "stream",
     "text": [
      "downloading transactions for mayc:  76%|███████████████████████████████████████████████████████████████████████████████████████████████████████████████████████████████████████████████████████████████▎                                                 | 14801/19418 [6:03:25<1:44:53,  1.36s/it]"
     ]
    },
    {
     "name": "stdout",
     "output_type": "stream",
     "text": [
      "udpating save file to id 20110\n"
     ]
    },
    {
     "name": "stderr",
     "output_type": "stream",
     "text": [
      "downloading transactions for mayc:  77%|█████████████████████████████████████████████████████████████████████████████████████████████████████████████████████████████████████████████████████████████████▍                                               | 15001/19418 [6:08:34<1:41:06,  1.37s/it]"
     ]
    },
    {
     "name": "stdout",
     "output_type": "stream",
     "text": [
      "udpating save file to id 20519\n"
     ]
    },
    {
     "name": "stderr",
     "output_type": "stream",
     "text": [
      "downloading transactions for mayc:  78%|███████████████████████████████████████████████████████████████████████████████████████████████████████████████████████████████████████████████████████████████████▌                                             | 15201/19418 [6:13:30<1:37:27,  1.39s/it]"
     ]
    },
    {
     "name": "stdout",
     "output_type": "stream",
     "text": [
      "udpating save file to id 20956\n"
     ]
    },
    {
     "name": "stderr",
     "output_type": "stream",
     "text": [
      "downloading transactions for mayc:  79%|█████████████████████████████████████████████████████████████████████████████████████████████████████████████████████████████████████████████████████████████████████▊                                           | 15401/19418 [6:18:24<1:33:08,  1.39s/it]"
     ]
    },
    {
     "name": "stdout",
     "output_type": "stream",
     "text": [
      "udpating save file to id 21384\n"
     ]
    },
    {
     "name": "stderr",
     "output_type": "stream",
     "text": [
      "downloading transactions for mayc:  80%|███████████████████████████████████████████████████████████████████████████████████████████████████████████████████████████████████████████████████████████████████████▉                                         | 15601/19418 [6:23:22<1:31:10,  1.43s/it]"
     ]
    },
    {
     "name": "stdout",
     "output_type": "stream",
     "text": [
      "udpating save file to id 21814\n"
     ]
    },
    {
     "name": "stderr",
     "output_type": "stream",
     "text": [
      "downloading transactions for mayc:  81%|██████████████████████████████████████████████████████████████████████████████████████████████████████████████████████████████████████████████████████████████████████████                                       | 15801/19418 [6:28:12<1:23:47,  1.39s/it]"
     ]
    },
    {
     "name": "stdout",
     "output_type": "stream",
     "text": [
      "udpating save file to id 22265\n"
     ]
    },
    {
     "name": "stderr",
     "output_type": "stream",
     "text": [
      "downloading transactions for mayc:  82%|████████████████████████████████████████████████████████████████████████████████████████████████████████████████████████████████████████████████████████████████████████████▏                                    | 16001/19418 [6:33:06<1:19:12,  1.39s/it]"
     ]
    },
    {
     "name": "stdout",
     "output_type": "stream",
     "text": [
      "udpating save file to id 22747\n"
     ]
    },
    {
     "name": "stderr",
     "output_type": "stream",
     "text": [
      "downloading transactions for mayc:  83%|██████████████████████████████████████████████████████████████████████████████████████████████████████████████████████████████████████████████████████████████████████████████▎                                  | 16201/19418 [6:38:00<1:11:46,  1.34s/it]"
     ]
    },
    {
     "name": "stdout",
     "output_type": "stream",
     "text": [
      "udpating save file to id 23149\n"
     ]
    },
    {
     "name": "stderr",
     "output_type": "stream",
     "text": [
      "downloading transactions for mayc:  84%|████████████████████████████████████████████████████████████████████████████████████████████████████████████████████████████████████████████████████████████████████████████████▌                                | 16401/19418 [6:42:51<1:10:44,  1.41s/it]"
     ]
    },
    {
     "name": "stdout",
     "output_type": "stream",
     "text": [
      "udpating save file to id 23546\n"
     ]
    },
    {
     "name": "stderr",
     "output_type": "stream",
     "text": [
      "downloading transactions for mayc:  85%|██████████████████████████████████████████████████████████████████████████████████████████████████████████████████████████████████████████████████████████████████████████████████▋                              | 16601/19418 [6:47:43<1:08:17,  1.45s/it]"
     ]
    },
    {
     "name": "stdout",
     "output_type": "stream",
     "text": [
      "udpating save file to id 23930\n"
     ]
    },
    {
     "name": "stderr",
     "output_type": "stream",
     "text": [
      "downloading transactions for mayc:  87%|████████████████████████████████████████████████████████████████████████████████████████████████████████████████████████████████████████████████████████████████████████████████████▊                            | 16801/19418 [6:52:37<1:04:31,  1.48s/it]"
     ]
    },
    {
     "name": "stdout",
     "output_type": "stream",
     "text": [
      "udpating save file to id 24338\n"
     ]
    },
    {
     "name": "stderr",
     "output_type": "stream",
     "text": [
      "downloading transactions for mayc:  87%|█████████████████████████████████████████████████████████████████████████████████████████████████████████████████████████████████████████████████████████████████████████████████████▊                           | 16887/19418 [6:54:49<1:01:22,  1.46s/it]"
     ]
    }
   ],
   "source": [
    "nft_data = {}\n",
    "for nft, contract_address in CONTRACTS.items():\n",
    "    nft_data[nft] = query_nft_data(nft, contract_address, save=DATA_PATH[\"raw\"])"
   ]
  },
  {
   "cell_type": "code",
   "execution_count": null,
   "id": "7624fd83",
   "metadata": {},
   "outputs": [],
   "source": [
    "txs = load_json(DATA_PATH[\"raw\"].joinpath(\"azuki_txs.json\"))"
   ]
  },
  {
   "cell_type": "code",
   "execution_count": null,
   "id": "c0e567bb",
   "metadata": {},
   "outputs": [],
   "source": []
  },
  {
   "cell_type": "code",
   "execution_count": 55,
   "id": "9947eca5",
   "metadata": {},
   "outputs": [],
   "source": [
    "token_url = generate_endpoint(f\"nft_transactions/9911\", CONTRACTS[\"azuki\"])\n",
    "result = get_covalent_query(token_url)"
   ]
  },
  {
   "cell_type": "code",
   "execution_count": 48,
   "id": "39bd8c8b",
   "metadata": {},
   "outputs": [],
   "source": [
    "logs = [event[\"decoded\"] for event in txs['10'][\"items\"][0][\"nft_transactions\"][0][\"log_events\"]]"
   ]
  },
  {
   "cell_type": "code",
   "execution_count": 54,
   "id": "0e8e10c9",
   "metadata": {},
   "outputs": [
    {
     "data": {
      "text/plain": [
       "200"
      ]
     },
     "execution_count": 54,
     "metadata": {},
     "output_type": "execute_result"
    }
   ],
   "source": [
    "len(check)"
   ]
  },
  {
   "cell_type": "code",
   "execution_count": null,
   "id": "47ecaca1",
   "metadata": {},
   "outputs": [],
   "source": []
  }
 ],
 "metadata": {
  "kernelspec": {
   "display_name": "Python 3 (ipykernel)",
   "language": "python",
   "name": "python3"
  },
  "language_info": {
   "codemirror_mode": {
    "name": "ipython",
    "version": 3
   },
   "file_extension": ".py",
   "mimetype": "text/x-python",
   "name": "python",
   "nbconvert_exporter": "python",
   "pygments_lexer": "ipython3",
   "version": "3.9.12"
  }
 },
 "nbformat": 4,
 "nbformat_minor": 5
}
