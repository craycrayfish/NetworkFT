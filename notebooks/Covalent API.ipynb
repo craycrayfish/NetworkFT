{
 "cells": [
  {
   "cell_type": "code",
   "execution_count": 103,
   "id": "f71b41fb",
   "metadata": {},
   "outputs": [
    {
     "name": "stdout",
     "output_type": "stream",
     "text": [
      "2022-06-13 00:51:24,798 - kedro.extras.extensions.ipython - INFO - Updated path to Kedro project: C:\\Users\\shawn\\PycharmProjects\\NetworkFT\\networkft\n",
      "2022-06-13 00:51:24,957 - kedro.framework.session.store - INFO - `read()` not implemented for `BaseSessionStore`. Assuming empty store.\n",
      "2022-06-13 00:51:25,140 - kedro.extras.extensions.ipython - WARNING - Kedro extension was registered but couldn't find a Kedro project. Make sure you run `%reload_kedro <path_to_kedro_project>`.\n"
     ]
    }
   ],
   "source": [
    "%reload_ext kedro.extras.extensions.ipython"
   ]
  },
  {
   "cell_type": "code",
   "execution_count": null,
   "id": "cb5f9cc3",
   "metadata": {},
   "outputs": [],
   "source": [
    "import requests\n",
    "import json\n",
    "import pandas as pd\n",
    "import time\n",
    "from tqdm import tqdm\n",
    "from pathlib import Path"
   ]
  },
  {
   "cell_type": "code",
   "execution_count": 62,
   "id": "1695fe9b",
   "metadata": {},
   "outputs": [],
   "source": [
    "\n",
    "DATA_ROOT = Path(r\"C:\\Users\\shawn\\PycharmProjects\\NetworkFT\\networkft\\data\")\n",
    "folders = [\"raw\", \"intermediate\", \"primary\"]\n",
    "DATA_PATH = {\n",
    "    folder: DATA_ROOT.joinpath(f\"0{i}_{folder}\")\n",
    "    for i, folder in enumerate(folders)\n",
    "}"
   ]
  },
  {
   "cell_type": "code",
   "execution_count": 89,
   "id": "3926bc87",
   "metadata": {},
   "outputs": [],
   "source": [
    "CONTRACTS = {\n",
    "    \"azuki\": \"0xED5AF388653567Af2F388E6224dC7C4b3241C544\",\n",
    "    \"doodles\": \"0x8a90CAb2b38dba80c64b7734e58Ee1dB38B8992e\",\n",
    "    \"moonbirds\": \"0x23581767a106ae21c074b2276D25e5C3e136a68b\",\n",
    "    \"clonex\": \"0x348fc118bcc65a92dc033a951af153d14d945312\",\n",
    "    \"mayc\": \"0x60E4d786628Fea6478F785A6d7e704777c86a7c6\",\n",
    "    \"pxn\": \"0x160C404B2b49CBC3240055CEaEE026df1e8497A0\",\n",
    "    \"goblintown\": \"0xbCe3781ae7Ca1a5e050Bd9C4c77369867eBc307e\"\n",
    "}\n",
    "\n",
    "def generate_endpoint(\n",
    "    topic, \n",
    "    contract_address, \n",
    "    category=\"tokens\",\n",
    "    chain_id=1,\n",
    "    base_url=None\n",
    "):\n",
    "    \"\"\"Generates the endpoint \"\"\"\n",
    "    base_url = base_url or \"https://api.covalenthq.com/v1\"\n",
    "    \n",
    "    endpoint = f\"{chain_id}/{category}/{contract_address}/{topic}\"\n",
    "    url = f\"{base_url}/{endpoint}/\"\n",
    "    return url\n",
    "\n",
    "def get_covalent_query(url, params={}):\n",
    "    \"\"\"Queries the covalent API given the url endpoint and extra params\"\"\"\n",
    "    params = params or {}\n",
    "    params.update({\"key\": KEY})\n",
    "    r = requests.get(url=url, params=params)\n",
    "    result = r.json()\n",
    "    if result[\"error\"]:\n",
    "        print(result[\"error_message\"])\n",
    "        return None\n",
    "    else:\n",
    "        return result[\"data\"]\n",
    "\n",
    "def save_json(json_file, path):\n",
    "    \"\"\"Saves a dict as a json in the path. Dirs will be create if it does not exist\"\"\"\n",
    "    if not path.parent.is_dir():\n",
    "        path.parent.mkdir(parents=True, exist_ok=False)\n",
    "    with open(path, \"w\") as f:\n",
    "        json.dump(json_file, f)\n",
    "    "
   ]
  },
  {
   "cell_type": "markdown",
   "id": "22762662",
   "metadata": {},
   "source": [
    "### Try covalent API for NFT collection"
   ]
  },
  {
   "cell_type": "code",
   "execution_count": 64,
   "id": "ade94b0d",
   "metadata": {},
   "outputs": [],
   "source": [
    "def parse_token_ids(result):\n",
    "    \"\"\"Parses covalent response into a list of ids\"\"\"\n",
    "    token_ids = [item[\"token_id\"] for item in result[\"items\"]]\n",
    "    return token_ids"
   ]
  },
  {
   "cell_type": "code",
   "execution_count": 67,
   "id": "811cd503",
   "metadata": {},
   "outputs": [
    {
     "data": {
      "text/plain": [
       "['0', '1', '2', '3', '4']"
      ]
     },
     "execution_count": 67,
     "metadata": {},
     "output_type": "execute_result"
    }
   ],
   "source": [
    "ids[0:5]"
   ]
  },
  {
   "cell_type": "markdown",
   "id": "67613d13",
   "metadata": {},
   "source": [
    "### Get transactions for NFT contract"
   ]
  },
  {
   "cell_type": "code",
   "execution_count": 68,
   "id": "176a7b23",
   "metadata": {},
   "outputs": [],
   "source": [
    "topic = \"nft_transactions/94446\"\n",
    "url = generate_endpoint(topic, \"Otherside\")"
   ]
  },
  {
   "cell_type": "code",
   "execution_count": 69,
   "id": "47c0ccb0",
   "metadata": {},
   "outputs": [
    {
     "ename": "NameError",
     "evalue": "name 'params' is not defined",
     "output_type": "error",
     "traceback": [
      "\u001b[1;31m---------------------------------------------------------------------------\u001b[0m",
      "\u001b[1;31mNameError\u001b[0m                                 Traceback (most recent call last)",
      "\u001b[1;32m~\\AppData\\Local\\Temp\\ipykernel_48052\\2320626800.py\u001b[0m in \u001b[0;36m<cell line: 1>\u001b[1;34m()\u001b[0m\n\u001b[1;32m----> 1\u001b[1;33m \u001b[0mr\u001b[0m \u001b[1;33m=\u001b[0m \u001b[0mrequests\u001b[0m\u001b[1;33m.\u001b[0m\u001b[0mget\u001b[0m\u001b[1;33m(\u001b[0m\u001b[0murl\u001b[0m\u001b[1;33m=\u001b[0m\u001b[0murl\u001b[0m\u001b[1;33m,\u001b[0m \u001b[0mparams\u001b[0m\u001b[1;33m=\u001b[0m\u001b[0mparams\u001b[0m\u001b[1;33m)\u001b[0m\u001b[1;33m\u001b[0m\u001b[1;33m\u001b[0m\u001b[0m\n\u001b[0m",
      "\u001b[1;31mNameError\u001b[0m: name 'params' is not defined"
     ]
    }
   ],
   "source": [
    "r = requests.get(url=url, params=params)"
   ]
  },
  {
   "cell_type": "code",
   "execution_count": 70,
   "id": "c252b3fb",
   "metadata": {},
   "outputs": [
    {
     "ename": "NameError",
     "evalue": "name 'r' is not defined",
     "output_type": "error",
     "traceback": [
      "\u001b[1;31m---------------------------------------------------------------------------\u001b[0m",
      "\u001b[1;31mNameError\u001b[0m                                 Traceback (most recent call last)",
      "\u001b[1;32m~\\AppData\\Local\\Temp\\ipykernel_48052\\155317282.py\u001b[0m in \u001b[0;36m<cell line: 1>\u001b[1;34m()\u001b[0m\n\u001b[1;32m----> 1\u001b[1;33m \u001b[0mresult\u001b[0m \u001b[1;33m=\u001b[0m \u001b[0mr\u001b[0m\u001b[1;33m.\u001b[0m\u001b[0mjson\u001b[0m\u001b[1;33m(\u001b[0m\u001b[1;33m)\u001b[0m\u001b[1;33m\u001b[0m\u001b[1;33m\u001b[0m\u001b[0m\n\u001b[0m",
      "\u001b[1;31mNameError\u001b[0m: name 'r' is not defined"
     ]
    }
   ],
   "source": [
    "result = r.json()"
   ]
  },
  {
   "cell_type": "code",
   "execution_count": 71,
   "id": "95d582c3",
   "metadata": {},
   "outputs": [
    {
     "ename": "KeyError",
     "evalue": "'data'",
     "output_type": "error",
     "traceback": [
      "\u001b[1;31m---------------------------------------------------------------------------\u001b[0m",
      "\u001b[1;31mKeyError\u001b[0m                                  Traceback (most recent call last)",
      "\u001b[1;32m~\\AppData\\Local\\Temp\\ipykernel_48052\\2797342523.py\u001b[0m in \u001b[0;36m<cell line: 1>\u001b[1;34m()\u001b[0m\n\u001b[1;32m----> 1\u001b[1;33m \u001b[0mresult\u001b[0m\u001b[1;33m[\u001b[0m\u001b[1;34m\"data\"\u001b[0m\u001b[1;33m]\u001b[0m\u001b[1;33m\u001b[0m\u001b[1;33m\u001b[0m\u001b[0m\n\u001b[0m",
      "\u001b[1;31mKeyError\u001b[0m: 'data'"
     ]
    }
   ],
   "source": [
    "result[\"data\"]"
   ]
  },
  {
   "cell_type": "code",
   "execution_count": 72,
   "id": "b1d932bc",
   "metadata": {},
   "outputs": [],
   "source": [
    "LOG_PARAMS = [\"maker\", \"taker\", \"price\"]\n",
    "EVENT_PARAMS = [\"block_signed_at\"]\n",
    "\n",
    "def parse_txs(response):\n",
    "    \"\"\"Parse response for transactions in log events\"\"\"\n",
    "    txs = response[\"items\"][0][\"nft_transactions\"]\n",
    "    parsed_tx = [get_params_from_log(tx[\"log_events\"]) for tx in txs]\n",
    "    parsed_tx = [tx for tx in parsed_tx if tx]\n",
    "    return parsed_tx\n",
    "\n",
    "\n",
    "def get_params_from_log(log_events, relevant=LOG_PARAMS):\n",
    "    for event in log_events:\n",
    "        try:\n",
    "            relevant_params = {\n",
    "                param[\"name\"]: param[\"value\"]\n",
    "                for param in event[\"decoded\"][\"params\"]\n",
    "                if param[\"name\"] in LOG_PARAMS\n",
    "            }\n",
    "            if len(relevant_params) == len(LOG_PARAMS):\n",
    "                relevant_params.update({param: event[param] for param in EVENT_PARAMS})\n",
    "                # only return if all the expected value is found\n",
    "                return relevant_params\n",
    "        except: \n",
    "            continue\n",
    "    return None"
   ]
  },
  {
   "cell_type": "code",
   "execution_count": 101,
   "id": "da15410f",
   "metadata": {},
   "outputs": [],
   "source": [
    "token_id = 9446\n",
    "nft = \"azuki\"\n",
    "\n",
    "url = generate_endpoint(f\"nft_transactions/{token_id}\", CONTRACTS[nft])\n",
    "result = get_covalent_query(url)\n",
    "txs = parse_txs(result)"
   ]
  },
  {
   "cell_type": "code",
   "execution_count": 24,
   "id": "10ab391f",
   "metadata": {},
   "outputs": [
    {
     "data": {
      "text/plain": [
       "[{'maker': '0x7bf9bf1e838b887b81c68fbb2a8180bbadcfa8b3',\n",
       "  'taker': '0xba7741180b87d66fa4409bad86cbf88ba21867ae',\n",
       "  'price': '2950000000000000000',\n",
       "  'block_signed_at': '2022-06-04T13:56:57Z'},\n",
       " {'maker': '0x2c233b11d9d5cc9cc1beb1f7328c2b84b5880527',\n",
       "  'taker': '0x2fa39ec3e8d1314a28e8360fe1a3dc50088153cc',\n",
       "  'price': '3030000000000000000',\n",
       "  'block_signed_at': '2022-06-04T00:47:58Z'}]"
      ]
     },
     "execution_count": 24,
     "metadata": {},
     "output_type": "execute_result"
    }
   ],
   "source": [
    "txs[0:2]"
   ]
  },
  {
   "cell_type": "markdown",
   "id": "220f3ab2",
   "metadata": {},
   "source": [
    "### Getting all transactions for a NFT"
   ]
  },
  {
   "cell_type": "code",
   "execution_count": 75,
   "id": "afeea6dc",
   "metadata": {},
   "outputs": [],
   "source": [
    "import itertools\n",
    "import time\n",
    "from tqdm import tqdm\n",
    "\n",
    "def get_nft_txs(token_name, token_ids=None):\n",
    "    \"\"\"Get all transactions of all tokens for a NFT\"\"\"\n",
    "    token_ids = token_ids or get_token_ids(token_name)\n",
    "    params = generate_param_combinations({\"token\": token_name}, {\"id_no\": token_ids})\n",
    "    txs = query_with_interval(get_token_txs, params)\n",
    "    return txs\n",
    "    \n",
    "def query_with_interval(query, params, interval=0.2):\n",
    "    \"\"\"Executes API queries, following a specified time interval (in s)\"\"\"\n",
    "    result = []\n",
    "    for param in tqdm(params):\n",
    "        try:\n",
    "            time.sleep(interval)\n",
    "            print(f\"Querying for parameters {param}\")\n",
    "            result.append(query(**param))\n",
    "        except Exception as e:\n",
    "            print(f\"Query failed for parameters {param} with exception {e}\")\n",
    "    return result\n",
    "        \n",
    "def generate_param_combinations(static_params, iterable_params):\n",
    "    \"\"\"Generates all possible combination of params given static and iterable ones\"\"\"\n",
    "    param_combinations = []\n",
    "    for iter_param in itertools.product(*iterable_params.values()):\n",
    "        params = {k: v for k, v in static_params.items()}\n",
    "        params.update(\n",
    "            {\n",
    "                arg: param for arg, param in \n",
    "                zip(iterable_params.keys(), iter_param)\n",
    "            }\n",
    "        )\n",
    "        param_combinations.append(params)\n",
    "    return param_combinations"
   ]
  },
  {
   "cell_type": "code",
   "execution_count": 275,
   "id": "694fb7fe",
   "metadata": {},
   "outputs": [
    {
     "data": {
      "text/plain": [
       "[{'maker': '0xf7cd36d292e39845e2dd8f0987cea804f05aa012',\n",
       "  'taker': '0x011c23b3aadaf3d4991f3abee262a34d18e9fdb5',\n",
       "  'price': '125000000000000000000',\n",
       "  'block_signed_at': '2022-05-01T14:22:42Z'}]"
      ]
     },
     "execution_count": 275,
     "metadata": {},
     "output_type": "execute_result"
    }
   ],
   "source": [
    "get_token_txs(**{\"token\": \"Otherside\", \"id_no\":51})"
   ]
  },
  {
   "cell_type": "code",
   "execution_count": null,
   "id": "c7f89448",
   "metadata": {},
   "outputs": [],
   "source": []
  }
 ],
 "metadata": {
  "kernelspec": {
   "display_name": "Kedro (networkft)",
   "language": "python",
   "name": "kedro_networkft"
  },
  "language_info": {
   "codemirror_mode": {
    "name": "ipython",
    "version": 3
   },
   "file_extension": ".py",
   "mimetype": "text/x-python",
   "name": "python",
   "nbconvert_exporter": "python",
   "pygments_lexer": "ipython3",
   "version": "3.9.12"
  }
 },
 "nbformat": 4,
 "nbformat_minor": 5
}
