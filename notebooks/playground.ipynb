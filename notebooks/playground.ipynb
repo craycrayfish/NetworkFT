{
 "cells": [
  {
   "cell_type": "code",
   "execution_count": 1,
   "id": "0b294333",
   "metadata": {},
   "outputs": [
    {
     "name": "stderr",
     "output_type": "stream",
     "text": [
      "C:\\Users\\shawn\\Anaconda3\\envs\\NetworkFT\\lib\\site-packages\\eth_utils\\toolz.py:2: DeprecationWarning: The toolz.compatibility module is no longer needed in Python 3 and has been deprecated. Please import these utilities directly from the standard library. This module will be removed in a future release.\n",
      "  from cytoolz import (\n",
      "C:\\Users\\shawn\\Anaconda3\\envs\\NetworkFT\\lib\\site-packages\\web3\\_utils\\normalizers.py:231: DeprecationWarning: distutils Version classes are deprecated. Use packaging.version instead.\n",
      "  if LooseVersion(eth_abi.__version__) < LooseVersion(\"2\"):\n"
     ]
    }
   ],
   "source": [
    "import pandas as pd\n",
    "import web3"
   ]
  },
  {
   "cell_type": "code",
   "execution_count": 4,
   "id": "707f6f5a",
   "metadata": {},
   "outputs": [
    {
     "data": {
      "text/plain": [
       "['raw_covalent_nft_txs',\n",
       " 'int_covalent_nft_txs',\n",
       " 'parameters',\n",
       " 'params:contracts',\n",
       " 'params:contracts.azuki',\n",
       " 'params:contracts.doodles',\n",
       " 'params:contracts.moonbirds',\n",
       " 'params:contracts.clonex',\n",
       " 'params:contracts.mayc',\n",
       " 'params:contracts.pxn',\n",
       " 'params:contracts.goblintown',\n",
       " 'params:covalent',\n",
       " 'params:covalent.endpoint',\n",
       " 'params:covalent.categories',\n",
       " 'params:covalent.categories.tokens',\n",
       " 'params:covalent.categories.topic',\n",
       " 'params:covalent.categories.topic.nft_token_id',\n",
       " 'params:covalent.categories.topic.nft_tx',\n",
       " 'params:covalent.tx_metadata',\n",
       " 'params:covalent.tx_params']"
      ]
     },
     "execution_count": 4,
     "metadata": {},
     "output_type": "execute_result"
    }
   ],
   "source": [
    "catalog.list()"
   ]
  },
  {
   "cell_type": "code",
   "execution_count": 2,
   "id": "404d9f8e",
   "metadata": {},
   "outputs": [
    {
     "name": "stdout",
     "output_type": "stream",
     "text": [
      "2022-07-16 18:10:23,230 - kedro.io.data_catalog - INFO - Loading data from `int_covalent_nft_txs` (ParquetDataSet)...\n"
     ]
    }
   ],
   "source": [
    "df = catalog.load(\"int_covalent_nft_txs\")"
   ]
  },
  {
   "cell_type": "code",
   "execution_count": 3,
   "id": "170a45b0",
   "metadata": {},
   "outputs": [
    {
     "data": {
      "text/html": [
       "<div>\n",
       "<style scoped>\n",
       "    .dataframe tbody tr th:only-of-type {\n",
       "        vertical-align: middle;\n",
       "    }\n",
       "\n",
       "    .dataframe tbody tr th {\n",
       "        vertical-align: top;\n",
       "    }\n",
       "\n",
       "    .dataframe thead th {\n",
       "        text-align: right;\n",
       "    }\n",
       "</style>\n",
       "<table border=\"1\" class=\"dataframe\">\n",
       "  <thead>\n",
       "    <tr style=\"text-align: right;\">\n",
       "      <th></th>\n",
       "      <th>collection</th>\n",
       "      <th>token_id</th>\n",
       "      <th>block_signed_at</th>\n",
       "      <th>from</th>\n",
       "      <th>to</th>\n",
       "      <th>value</th>\n",
       "      <th>name</th>\n",
       "    </tr>\n",
       "  </thead>\n",
       "  <tbody>\n",
       "    <tr>\n",
       "      <th>0</th>\n",
       "      <td>azuki</td>\n",
       "      <td>0</td>\n",
       "      <td>2022-01-12T04:17:28Z</td>\n",
       "      <td>0x0000000000000000000000000000000000000000</td>\n",
       "      <td>0xd45058bf25bbd8f586124c479d384c8c708ce23a</td>\n",
       "      <td>None</td>\n",
       "      <td>Transfer</td>\n",
       "    </tr>\n",
       "    <tr>\n",
       "      <th>1</th>\n",
       "      <td>azuki</td>\n",
       "      <td>1</td>\n",
       "      <td>2022-01-12T04:17:28Z</td>\n",
       "      <td>0x0000000000000000000000000000000000000000</td>\n",
       "      <td>0xd45058bf25bbd8f586124c479d384c8c708ce23a</td>\n",
       "      <td>None</td>\n",
       "      <td>Transfer</td>\n",
       "    </tr>\n",
       "    <tr>\n",
       "      <th>2</th>\n",
       "      <td>azuki</td>\n",
       "      <td>2</td>\n",
       "      <td>2022-01-12T04:17:28Z</td>\n",
       "      <td>0x0000000000000000000000000000000000000000</td>\n",
       "      <td>0xd45058bf25bbd8f586124c479d384c8c708ce23a</td>\n",
       "      <td>None</td>\n",
       "      <td>Transfer</td>\n",
       "    </tr>\n",
       "    <tr>\n",
       "      <th>3</th>\n",
       "      <td>azuki</td>\n",
       "      <td>3</td>\n",
       "      <td>2022-01-25T06:58:20Z</td>\n",
       "      <td>0xd45058bf25bbd8f586124c479d384c8c708ce23a</td>\n",
       "      <td>0x645d2b4bfb047566ff60e2e7112373885935eac4</td>\n",
       "      <td>None</td>\n",
       "      <td>Transfer</td>\n",
       "    </tr>\n",
       "    <tr>\n",
       "      <th>4</th>\n",
       "      <td>azuki</td>\n",
       "      <td>3</td>\n",
       "      <td>2022-01-12T04:17:28Z</td>\n",
       "      <td>0x0000000000000000000000000000000000000000</td>\n",
       "      <td>0xd45058bf25bbd8f586124c479d384c8c708ce23a</td>\n",
       "      <td>None</td>\n",
       "      <td>Transfer</td>\n",
       "    </tr>\n",
       "    <tr>\n",
       "      <th>...</th>\n",
       "      <td>...</td>\n",
       "      <td>...</td>\n",
       "      <td>...</td>\n",
       "      <td>...</td>\n",
       "      <td>...</td>\n",
       "      <td>...</td>\n",
       "      <td>...</td>\n",
       "    </tr>\n",
       "    <tr>\n",
       "      <th>316234</th>\n",
       "      <td>pxn</td>\n",
       "      <td>9997</td>\n",
       "      <td>2022-05-07T21:19:50Z</td>\n",
       "      <td>0x0000000000000000000000000000000000000000</td>\n",
       "      <td>0xa7a8611a2d7663b3e215bb73f5fd57c9e673b2d8</td>\n",
       "      <td>None</td>\n",
       "      <td>Transfer</td>\n",
       "    </tr>\n",
       "    <tr>\n",
       "      <th>316235</th>\n",
       "      <td>pxn</td>\n",
       "      <td>9998</td>\n",
       "      <td>2022-05-13T14:35:54Z</td>\n",
       "      <td>0xa7a8611a2d7663b3e215bb73f5fd57c9e673b2d8</td>\n",
       "      <td>0x1edf858f3d66f8d8b595e52af3ffb993f0cad086</td>\n",
       "      <td>None</td>\n",
       "      <td>Transfer</td>\n",
       "    </tr>\n",
       "    <tr>\n",
       "      <th>316236</th>\n",
       "      <td>pxn</td>\n",
       "      <td>9998</td>\n",
       "      <td>2022-05-07T21:19:50Z</td>\n",
       "      <td>0x0000000000000000000000000000000000000000</td>\n",
       "      <td>0xa7a8611a2d7663b3e215bb73f5fd57c9e673b2d8</td>\n",
       "      <td>None</td>\n",
       "      <td>Transfer</td>\n",
       "    </tr>\n",
       "    <tr>\n",
       "      <th>316237</th>\n",
       "      <td>pxn</td>\n",
       "      <td>9999</td>\n",
       "      <td>2022-05-13T14:35:54Z</td>\n",
       "      <td>0xa7a8611a2d7663b3e215bb73f5fd57c9e673b2d8</td>\n",
       "      <td>0x1edf858f3d66f8d8b595e52af3ffb993f0cad086</td>\n",
       "      <td>None</td>\n",
       "      <td>Transfer</td>\n",
       "    </tr>\n",
       "    <tr>\n",
       "      <th>316238</th>\n",
       "      <td>pxn</td>\n",
       "      <td>9999</td>\n",
       "      <td>2022-05-07T21:19:50Z</td>\n",
       "      <td>0x0000000000000000000000000000000000000000</td>\n",
       "      <td>0xa7a8611a2d7663b3e215bb73f5fd57c9e673b2d8</td>\n",
       "      <td>None</td>\n",
       "      <td>Transfer</td>\n",
       "    </tr>\n",
       "  </tbody>\n",
       "</table>\n",
       "<p>316239 rows × 7 columns</p>\n",
       "</div>"
      ],
      "text/plain": [
       "       collection token_id       block_signed_at  \\\n",
       "0           azuki        0  2022-01-12T04:17:28Z   \n",
       "1           azuki        1  2022-01-12T04:17:28Z   \n",
       "2           azuki        2  2022-01-12T04:17:28Z   \n",
       "3           azuki        3  2022-01-25T06:58:20Z   \n",
       "4           azuki        3  2022-01-12T04:17:28Z   \n",
       "...           ...      ...                   ...   \n",
       "316234        pxn     9997  2022-05-07T21:19:50Z   \n",
       "316235        pxn     9998  2022-05-13T14:35:54Z   \n",
       "316236        pxn     9998  2022-05-07T21:19:50Z   \n",
       "316237        pxn     9999  2022-05-13T14:35:54Z   \n",
       "316238        pxn     9999  2022-05-07T21:19:50Z   \n",
       "\n",
       "                                              from  \\\n",
       "0       0x0000000000000000000000000000000000000000   \n",
       "1       0x0000000000000000000000000000000000000000   \n",
       "2       0x0000000000000000000000000000000000000000   \n",
       "3       0xd45058bf25bbd8f586124c479d384c8c708ce23a   \n",
       "4       0x0000000000000000000000000000000000000000   \n",
       "...                                            ...   \n",
       "316234  0x0000000000000000000000000000000000000000   \n",
       "316235  0xa7a8611a2d7663b3e215bb73f5fd57c9e673b2d8   \n",
       "316236  0x0000000000000000000000000000000000000000   \n",
       "316237  0xa7a8611a2d7663b3e215bb73f5fd57c9e673b2d8   \n",
       "316238  0x0000000000000000000000000000000000000000   \n",
       "\n",
       "                                                to value      name  \n",
       "0       0xd45058bf25bbd8f586124c479d384c8c708ce23a  None  Transfer  \n",
       "1       0xd45058bf25bbd8f586124c479d384c8c708ce23a  None  Transfer  \n",
       "2       0xd45058bf25bbd8f586124c479d384c8c708ce23a  None  Transfer  \n",
       "3       0x645d2b4bfb047566ff60e2e7112373885935eac4  None  Transfer  \n",
       "4       0xd45058bf25bbd8f586124c479d384c8c708ce23a  None  Transfer  \n",
       "...                                            ...   ...       ...  \n",
       "316234  0xa7a8611a2d7663b3e215bb73f5fd57c9e673b2d8  None  Transfer  \n",
       "316235  0x1edf858f3d66f8d8b595e52af3ffb993f0cad086  None  Transfer  \n",
       "316236  0xa7a8611a2d7663b3e215bb73f5fd57c9e673b2d8  None  Transfer  \n",
       "316237  0x1edf858f3d66f8d8b595e52af3ffb993f0cad086  None  Transfer  \n",
       "316238  0xa7a8611a2d7663b3e215bb73f5fd57c9e673b2d8  None  Transfer  \n",
       "\n",
       "[316239 rows x 7 columns]"
      ]
     },
     "execution_count": 3,
     "metadata": {},
     "output_type": "execute_result"
    }
   ],
   "source": [
    "df"
   ]
  },
  {
   "cell_type": "code",
   "execution_count": 7,
   "id": "2062afde",
   "metadata": {},
   "outputs": [
    {
     "data": {
      "text/plain": [
       "1000000000000             59\n",
       "2427200000000000000000    37\n",
       "0                         32\n",
       "1                         28\n",
       "385200000000000000000     26\n",
       "                          ..\n",
       "4100000000000000000        1\n",
       "39689247                   1\n",
       "27750000000000000000       1\n",
       "3021000000000000000000     1\n",
       "350000000000000000         1\n",
       "Name: value, Length: 179, dtype: int64"
      ]
     },
     "execution_count": 7,
     "metadata": {},
     "output_type": "execute_result"
    }
   ],
   "source": [
    "df[\"value\"].apply(web3.from)"
   ]
  },
  {
   "cell_type": "code",
   "execution_count": 9,
   "id": "e0b29bf3",
   "metadata": {},
   "outputs": [
    {
     "data": {
      "text/plain": [
       "585"
      ]
     },
     "execution_count": 9,
     "metadata": {},
     "output_type": "execute_result"
    }
   ],
   "source": [
    "df[\"value\"].value_counts().sum()"
   ]
  },
  {
   "cell_type": "code",
   "execution_count": 8,
   "id": "0bbbdd8c",
   "metadata": {
    "scrolled": true
   },
   "outputs": [
    {
     "data": {
      "text/plain": [
       "Transfer                      148723\n",
       "OrdersMatched                 108459\n",
       "CloneXRevealed                 19303\n",
       "TransferSingle                 11767\n",
       "swapEvent                       8078\n",
       "Revenue                         7875\n",
       "TakerBid                        4755\n",
       "ExecutionSuccess                1815\n",
       "TakerAsk                        1677\n",
       "Withdrawal                      1672\n",
       "LoanStarted                      504\n",
       "LoanRepaid                       465\n",
       "Redeemed                         224\n",
       "UserStaked                       140\n",
       "DepositERC721                     97\n",
       "LoanLiquidated                    94\n",
       "Withdraw                          90\n",
       "TransactionExecuted               86\n",
       "Minted                            68\n",
       "Sell                              49\n",
       "SwapExecuted                      37\n",
       "BetaDeposited                     30\n",
       "SwapProposed                      30\n",
       "InventoryUnstaked                 29\n",
       "Swap                              26\n",
       "Redeem                            20\n",
       "SwapInitiated                     17\n",
       "Swapped                           16\n",
       "TransferBatch                     14\n",
       "FlashLoan                         12\n",
       "SwapCanceled                      10\n",
       "AuctionApprovalUpdated             9\n",
       "AuctionCanceled                    7\n",
       "WithdrawERC721                     6\n",
       "Approval                           5\n",
       "BetaWithdrawn                      5\n",
       "CBOXClaimed                        4\n",
       "CreateNote                         3\n",
       "AuctionEnded                       2\n",
       "Borrowed                           2\n",
       "NiftySale721                       2\n",
       "TransferNotes                      2\n",
       "ChosenHolder                       2\n",
       "ActionExecuted                     1\n",
       "DelegateVotesChanged               1\n",
       "ERC721WrapAsked                    1\n",
       "Relisted                           1\n",
       "Transacted                         1\n",
       "Execution                          1\n",
       "Locked                             1\n",
       "RandomnessRequestFulfilled         1\n",
       "Name: name, dtype: int64"
      ]
     },
     "execution_count": 8,
     "metadata": {},
     "output_type": "execute_result"
    }
   ],
   "source": [
    "df[\"name\"].value_counts()"
   ]
  },
  {
   "cell_type": "code",
   "execution_count": 17,
   "id": "4d4b0337",
   "metadata": {},
   "outputs": [],
   "source": [
    "df[\"value\"] = pd.Series(df[\"value\"], dtype=\"uint64\")"
   ]
  },
  {
   "cell_type": "code",
   "execution_count": 19,
   "id": "b85085c1",
   "metadata": {},
   "outputs": [
    {
     "ename": "TypeError",
     "evalue": "'>' not supported between instances of 'str' and 'int'",
     "output_type": "error",
     "traceback": [
      "\u001b[1;31m---------------------------------------------------------------------------\u001b[0m",
      "\u001b[1;31mTypeError\u001b[0m                                 Traceback (most recent call last)",
      "\u001b[1;32m~\\AppData\\Local\\Temp\\ipykernel_6200\\3164283002.py\u001b[0m in \u001b[0;36m<cell line: 1>\u001b[1;34m()\u001b[0m\n\u001b[1;32m----> 1\u001b[1;33m \u001b[0mdf\u001b[0m\u001b[1;33m[\u001b[0m\u001b[0mdf\u001b[0m\u001b[1;33m[\u001b[0m\u001b[1;34m\"value\"\u001b[0m\u001b[1;33m]\u001b[0m \u001b[1;33m>\u001b[0m \u001b[1;36m0\u001b[0m\u001b[1;33m]\u001b[0m\u001b[1;33m\u001b[0m\u001b[1;33m\u001b[0m\u001b[0m\n\u001b[0m",
      "\u001b[1;32m~\\Anaconda3\\envs\\NetworkFT\\lib\\site-packages\\pandas\\core\\ops\\common.py\u001b[0m in \u001b[0;36mnew_method\u001b[1;34m(self, other)\u001b[0m\n\u001b[0;32m     68\u001b[0m         \u001b[0mother\u001b[0m \u001b[1;33m=\u001b[0m \u001b[0mitem_from_zerodim\u001b[0m\u001b[1;33m(\u001b[0m\u001b[0mother\u001b[0m\u001b[1;33m)\u001b[0m\u001b[1;33m\u001b[0m\u001b[1;33m\u001b[0m\u001b[0m\n\u001b[0;32m     69\u001b[0m \u001b[1;33m\u001b[0m\u001b[0m\n\u001b[1;32m---> 70\u001b[1;33m         \u001b[1;32mreturn\u001b[0m \u001b[0mmethod\u001b[0m\u001b[1;33m(\u001b[0m\u001b[0mself\u001b[0m\u001b[1;33m,\u001b[0m \u001b[0mother\u001b[0m\u001b[1;33m)\u001b[0m\u001b[1;33m\u001b[0m\u001b[1;33m\u001b[0m\u001b[0m\n\u001b[0m\u001b[0;32m     71\u001b[0m \u001b[1;33m\u001b[0m\u001b[0m\n\u001b[0;32m     72\u001b[0m     \u001b[1;32mreturn\u001b[0m \u001b[0mnew_method\u001b[0m\u001b[1;33m\u001b[0m\u001b[1;33m\u001b[0m\u001b[0m\n",
      "\u001b[1;32m~\\Anaconda3\\envs\\NetworkFT\\lib\\site-packages\\pandas\\core\\arraylike.py\u001b[0m in \u001b[0;36m__gt__\u001b[1;34m(self, other)\u001b[0m\n\u001b[0;32m     54\u001b[0m     \u001b[1;33m@\u001b[0m\u001b[0munpack_zerodim_and_defer\u001b[0m\u001b[1;33m(\u001b[0m\u001b[1;34m\"__gt__\"\u001b[0m\u001b[1;33m)\u001b[0m\u001b[1;33m\u001b[0m\u001b[1;33m\u001b[0m\u001b[0m\n\u001b[0;32m     55\u001b[0m     \u001b[1;32mdef\u001b[0m \u001b[0m__gt__\u001b[0m\u001b[1;33m(\u001b[0m\u001b[0mself\u001b[0m\u001b[1;33m,\u001b[0m \u001b[0mother\u001b[0m\u001b[1;33m)\u001b[0m\u001b[1;33m:\u001b[0m\u001b[1;33m\u001b[0m\u001b[1;33m\u001b[0m\u001b[0m\n\u001b[1;32m---> 56\u001b[1;33m         \u001b[1;32mreturn\u001b[0m \u001b[0mself\u001b[0m\u001b[1;33m.\u001b[0m\u001b[0m_cmp_method\u001b[0m\u001b[1;33m(\u001b[0m\u001b[0mother\u001b[0m\u001b[1;33m,\u001b[0m \u001b[0moperator\u001b[0m\u001b[1;33m.\u001b[0m\u001b[0mgt\u001b[0m\u001b[1;33m)\u001b[0m\u001b[1;33m\u001b[0m\u001b[1;33m\u001b[0m\u001b[0m\n\u001b[0m\u001b[0;32m     57\u001b[0m \u001b[1;33m\u001b[0m\u001b[0m\n\u001b[0;32m     58\u001b[0m     \u001b[1;33m@\u001b[0m\u001b[0munpack_zerodim_and_defer\u001b[0m\u001b[1;33m(\u001b[0m\u001b[1;34m\"__ge__\"\u001b[0m\u001b[1;33m)\u001b[0m\u001b[1;33m\u001b[0m\u001b[1;33m\u001b[0m\u001b[0m\n",
      "\u001b[1;32m~\\Anaconda3\\envs\\NetworkFT\\lib\\site-packages\\pandas\\core\\series.py\u001b[0m in \u001b[0;36m_cmp_method\u001b[1;34m(self, other, op)\u001b[0m\n\u001b[0;32m   5621\u001b[0m \u001b[1;33m\u001b[0m\u001b[0m\n\u001b[0;32m   5622\u001b[0m         \u001b[1;32mwith\u001b[0m \u001b[0mnp\u001b[0m\u001b[1;33m.\u001b[0m\u001b[0merrstate\u001b[0m\u001b[1;33m(\u001b[0m\u001b[0mall\u001b[0m\u001b[1;33m=\u001b[0m\u001b[1;34m\"ignore\"\u001b[0m\u001b[1;33m)\u001b[0m\u001b[1;33m:\u001b[0m\u001b[1;33m\u001b[0m\u001b[1;33m\u001b[0m\u001b[0m\n\u001b[1;32m-> 5623\u001b[1;33m             \u001b[0mres_values\u001b[0m \u001b[1;33m=\u001b[0m \u001b[0mops\u001b[0m\u001b[1;33m.\u001b[0m\u001b[0mcomparison_op\u001b[0m\u001b[1;33m(\u001b[0m\u001b[0mlvalues\u001b[0m\u001b[1;33m,\u001b[0m \u001b[0mrvalues\u001b[0m\u001b[1;33m,\u001b[0m \u001b[0mop\u001b[0m\u001b[1;33m)\u001b[0m\u001b[1;33m\u001b[0m\u001b[1;33m\u001b[0m\u001b[0m\n\u001b[0m\u001b[0;32m   5624\u001b[0m \u001b[1;33m\u001b[0m\u001b[0m\n\u001b[0;32m   5625\u001b[0m         \u001b[1;32mreturn\u001b[0m \u001b[0mself\u001b[0m\u001b[1;33m.\u001b[0m\u001b[0m_construct_result\u001b[0m\u001b[1;33m(\u001b[0m\u001b[0mres_values\u001b[0m\u001b[1;33m,\u001b[0m \u001b[0mname\u001b[0m\u001b[1;33m=\u001b[0m\u001b[0mres_name\u001b[0m\u001b[1;33m)\u001b[0m\u001b[1;33m\u001b[0m\u001b[1;33m\u001b[0m\u001b[0m\n",
      "\u001b[1;32m~\\Anaconda3\\envs\\NetworkFT\\lib\\site-packages\\pandas\\core\\ops\\array_ops.py\u001b[0m in \u001b[0;36mcomparison_op\u001b[1;34m(left, right, op)\u001b[0m\n\u001b[0;32m    281\u001b[0m \u001b[1;33m\u001b[0m\u001b[0m\n\u001b[0;32m    282\u001b[0m     \u001b[1;32melif\u001b[0m \u001b[0mis_object_dtype\u001b[0m\u001b[1;33m(\u001b[0m\u001b[0mlvalues\u001b[0m\u001b[1;33m.\u001b[0m\u001b[0mdtype\u001b[0m\u001b[1;33m)\u001b[0m \u001b[1;32mor\u001b[0m \u001b[0misinstance\u001b[0m\u001b[1;33m(\u001b[0m\u001b[0mrvalues\u001b[0m\u001b[1;33m,\u001b[0m \u001b[0mstr\u001b[0m\u001b[1;33m)\u001b[0m\u001b[1;33m:\u001b[0m\u001b[1;33m\u001b[0m\u001b[1;33m\u001b[0m\u001b[0m\n\u001b[1;32m--> 283\u001b[1;33m         \u001b[0mres_values\u001b[0m \u001b[1;33m=\u001b[0m \u001b[0mcomp_method_OBJECT_ARRAY\u001b[0m\u001b[1;33m(\u001b[0m\u001b[0mop\u001b[0m\u001b[1;33m,\u001b[0m \u001b[0mlvalues\u001b[0m\u001b[1;33m,\u001b[0m \u001b[0mrvalues\u001b[0m\u001b[1;33m)\u001b[0m\u001b[1;33m\u001b[0m\u001b[1;33m\u001b[0m\u001b[0m\n\u001b[0m\u001b[0;32m    284\u001b[0m \u001b[1;33m\u001b[0m\u001b[0m\n\u001b[0;32m    285\u001b[0m     \u001b[1;32melse\u001b[0m\u001b[1;33m:\u001b[0m\u001b[1;33m\u001b[0m\u001b[1;33m\u001b[0m\u001b[0m\n",
      "\u001b[1;32m~\\Anaconda3\\envs\\NetworkFT\\lib\\site-packages\\pandas\\core\\ops\\array_ops.py\u001b[0m in \u001b[0;36mcomp_method_OBJECT_ARRAY\u001b[1;34m(op, x, y)\u001b[0m\n\u001b[0;32m     71\u001b[0m         \u001b[0mresult\u001b[0m \u001b[1;33m=\u001b[0m \u001b[0mlibops\u001b[0m\u001b[1;33m.\u001b[0m\u001b[0mvec_compare\u001b[0m\u001b[1;33m(\u001b[0m\u001b[0mx\u001b[0m\u001b[1;33m.\u001b[0m\u001b[0mravel\u001b[0m\u001b[1;33m(\u001b[0m\u001b[1;33m)\u001b[0m\u001b[1;33m,\u001b[0m \u001b[0my\u001b[0m\u001b[1;33m.\u001b[0m\u001b[0mravel\u001b[0m\u001b[1;33m(\u001b[0m\u001b[1;33m)\u001b[0m\u001b[1;33m,\u001b[0m \u001b[0mop\u001b[0m\u001b[1;33m)\u001b[0m\u001b[1;33m\u001b[0m\u001b[1;33m\u001b[0m\u001b[0m\n\u001b[0;32m     72\u001b[0m     \u001b[1;32melse\u001b[0m\u001b[1;33m:\u001b[0m\u001b[1;33m\u001b[0m\u001b[1;33m\u001b[0m\u001b[0m\n\u001b[1;32m---> 73\u001b[1;33m         \u001b[0mresult\u001b[0m \u001b[1;33m=\u001b[0m \u001b[0mlibops\u001b[0m\u001b[1;33m.\u001b[0m\u001b[0mscalar_compare\u001b[0m\u001b[1;33m(\u001b[0m\u001b[0mx\u001b[0m\u001b[1;33m.\u001b[0m\u001b[0mravel\u001b[0m\u001b[1;33m(\u001b[0m\u001b[1;33m)\u001b[0m\u001b[1;33m,\u001b[0m \u001b[0my\u001b[0m\u001b[1;33m,\u001b[0m \u001b[0mop\u001b[0m\u001b[1;33m)\u001b[0m\u001b[1;33m\u001b[0m\u001b[1;33m\u001b[0m\u001b[0m\n\u001b[0m\u001b[0;32m     74\u001b[0m     \u001b[1;32mreturn\u001b[0m \u001b[0mresult\u001b[0m\u001b[1;33m.\u001b[0m\u001b[0mreshape\u001b[0m\u001b[1;33m(\u001b[0m\u001b[0mx\u001b[0m\u001b[1;33m.\u001b[0m\u001b[0mshape\u001b[0m\u001b[1;33m)\u001b[0m\u001b[1;33m\u001b[0m\u001b[1;33m\u001b[0m\u001b[0m\n\u001b[0;32m     75\u001b[0m \u001b[1;33m\u001b[0m\u001b[0m\n",
      "\u001b[1;32m~\\Anaconda3\\envs\\NetworkFT\\lib\\site-packages\\pandas\\_libs\\ops.pyx\u001b[0m in \u001b[0;36mpandas._libs.ops.scalar_compare\u001b[1;34m()\u001b[0m\n",
      "\u001b[1;31mTypeError\u001b[0m: '>' not supported between instances of 'str' and 'int'"
     ]
    }
   ],
   "source": []
  },
  {
   "cell_type": "code",
   "execution_count": null,
   "id": "14304a2a",
   "metadata": {},
   "outputs": [],
   "source": []
  }
 ],
 "metadata": {
  "kernelspec": {
   "display_name": "Kedro (networkft)",
   "language": "python",
   "name": "kedro_networkft"
  },
  "language_info": {
   "codemirror_mode": {
    "name": "ipython",
    "version": 3
   },
   "file_extension": ".py",
   "mimetype": "text/x-python",
   "name": "python",
   "nbconvert_exporter": "python",
   "pygments_lexer": "ipython3",
   "version": "3.9.12"
  }
 },
 "nbformat": 4,
 "nbformat_minor": 5
}
